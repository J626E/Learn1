{
  "nbformat": 4,
  "nbformat_minor": 0,
  "metadata": {
    "colab": {
      "provenance": [],
      "gpuType": "T4",
      "authorship_tag": "ABX9TyONYcT08BxT++MzQH6kBX/E",
      "include_colab_link": true
    },
    "kernelspec": {
      "name": "python3",
      "display_name": "Python 3"
    },
    "language_info": {
      "name": "python"
    },
    "accelerator": "GPU"
  },
  "cells": [
    {
      "cell_type": "markdown",
      "metadata": {
        "id": "view-in-github",
        "colab_type": "text"
      },
      "source": [
        "<a href=\"https://colab.research.google.com/github/J626E/Learn1/blob/main/Copy_of_JubytraEnzmann_Project_ProspectAuto_II.ipynb\" target=\"_parent\"><img src=\"https://colab.research.google.com/assets/colab-badge.svg\" alt=\"Open In Colab\"/></a>"
      ]
    },
    {
      "cell_type": "markdown",
      "source": [
        "##**Vehicle Silhouette Classification System - Part 2**\n",
        "### Unsupervised Learning Approach for Automated Vehicle Recognition at Prospect Auto"
      ],
      "metadata": {
        "id": "9E2Rp7HytpYy"
      }
    },
    {
      "cell_type": "markdown",
      "source": [
        "# **1. Introduction**\n",
        "\n",
        "###1.1 Project Overview\n",
        "This report presents the second phase of the vehicle classification project for Prospect Auto, focusing on unsupervised learning approaches to distinguish between buses, vans, and cars based on geometric features extracted from vehicle silhouettes.\n",
        "\n",
        "###1.2 Objectives\n",
        "While Part 1 employed supervised machine learning techniques with labeled training data, this analysis explores whether clustering algorithms can effectively identify vehicle types without prior knowledge of class labels, providing insights into the natural groupings present in the silhouette data."
      ],
      "metadata": {
        "id": "c4bbQZAauS0J"
      }
    },
    {
      "cell_type": "markdown",
      "source": [
        "# **2. Methodology**\n",
        "\n",
        "This section outlines the comprehensive analytical framework employed to evaluate unsupervised learning performance on the vehicle silhouette dataset.\n",
        "\n",
        "Data Preprocessing and Standardization\n",
        "The methodology encompasses data preprocessing procedures, feature standardization techniques, and the systematic implementation of multiple clustering algorithms.\n",
        "\n",
        "Train-Test Split Strategy\n",
        "By establishing a rigorous experimental design with proper train-test splits and standardized preprocessing pipelines, reliable and reproducible results that can be meaningfully compared across different unsupervised learning approaches is ensured."
      ],
      "metadata": {
        "id": "mOu9FjviwgXm"
      }
    },
    {
      "cell_type": "markdown",
      "source": [
        "### 2.1  Data Import and Library Setup"
      ],
      "metadata": {
        "id": "9aaHcqTTYt0X"
      }
    },
    {
      "cell_type": "code",
      "execution_count": 41,
      "metadata": {
        "id": "MIGUVwzItMQo",
        "colab": {
          "base_uri": "https://localhost:8080/"
        },
        "outputId": "cdf438f2-107f-4a14-d154-9dd9d992ab99"
      },
      "outputs": [
        {
          "output_type": "stream",
          "name": "stdout",
          "text": [
            "\n",
            "================================================================================\n",
            "STEP 1: IMPORT LIBRARIES AND LOAD DATA\n",
            "================================================================================\n"
          ]
        }
      ],
      "source": [
        "print(\"\\n\" + \"=\"*80)\n",
        "print(\"STEP 1: IMPORT LIBRARIES AND LOAD DATA\")\n",
        "print(\"=\"*80)"
      ]
    },
    {
      "cell_type": "code",
      "source": [
        "# Standard Libraries\n",
        "\n",
        "import pandas as pd\n",
        "import numpy as np\n",
        "import matplotlib.pyplot as plt\n",
        "import seaborn as sns\n",
        "from sklearn.impute import SimpleImputer, KNNImputer\n",
        "from sklearn.model_selection import train_test_split\n",
        "from sklearn.preprocessing import StandardScaler, LabelEncoder\n",
        "from sklearn.decomposition import PCA\n",
        "from sklearn.cluster import KMeans, AgglomerativeClustering, DBSCAN\n",
        "from sklearn.mixture import GaussianMixture\n",
        "from sklearn.metrics import adjusted_rand_score, silhouette_score, homogeneity_score, completeness_score, v_measure_score,calinski_harabasz_score\n",
        "from sklearn.metrics import confusion_matrix, classification_report\n",
        "from sklearn.manifold import TSNE\n",
        "import warnings\n",
        "warnings.filterwarnings('ignore')\n",
        "\n"
      ],
      "metadata": {
        "id": "y63tWQPOC0uS"
      },
      "execution_count": 42,
      "outputs": []
    },
    {
      "cell_type": "code",
      "source": [
        "# Set random seed for reproducibilty\n",
        "np.random.seed(42)"
      ],
      "metadata": {
        "id": "JuhdgDGYDqoe"
      },
      "execution_count": 21,
      "outputs": []
    },
    {
      "cell_type": "code",
      "source": [
        "# Load dataset\n",
        "df = pd.read_csv('/content/part_II_vehicle.csv')\n",
        "\n",
        "print(\"Dataset Loaded Successfully!\")\n",
        "print(f\"\\n1. Dataset Shape: {df.shape}\")\n",
        "print(\"\\n2. First Few Rows:\")\n",
        "print(df.head())\n",
        "print(f\"\\n3. Dataset Info:\")\n",
        "print(df.info())\n",
        "print(\"\\n4. Statistical Summary:\")\n",
        "print(df.describe())\n",
        "print(\"\\n5. Missing Values Check:\")\n",
        "print(df.isnull().sum())\n",
        "print(\"\\n6. Duplicate Rows Check:\")\n",
        "print(f\"Number of duplicate rows: {df.duplicated().sum()}\")\n"
      ],
      "metadata": {
        "colab": {
          "base_uri": "https://localhost:8080/"
        },
        "id": "3uh9n_fWDrtU",
        "outputId": "72312d4f-d7b3-4fc2-c748-661c45cc7dac"
      },
      "execution_count": 3,
      "outputs": [
        {
          "output_type": "stream",
          "name": "stdout",
          "text": [
            "Dataset Loaded Successfully!\n",
            "\n",
            "1. Dataset Shape: (846, 19)\n",
            "\n",
            "2. First Few Rows:\n",
            "   compactness  circularity  distance_circularity  radius_ratio  \\\n",
            "0           95         48.0                  83.0         178.0   \n",
            "1           91         41.0                  84.0         141.0   \n",
            "2          104         50.0                 106.0         209.0   \n",
            "3           93         41.0                  82.0         159.0   \n",
            "4           85         44.0                  70.0         205.0   \n",
            "\n",
            "   pr.axis_aspect_ratio  max.length_aspect_ratio  scatter_ratio  \\\n",
            "0                  72.0                       10          162.0   \n",
            "1                  57.0                        9          149.0   \n",
            "2                  66.0                       10          207.0   \n",
            "3                  63.0                        9          144.0   \n",
            "4                 103.0                       52          149.0   \n",
            "\n",
            "   elongatedness  pr.axis_rectangularity  max.length_rectangularity  \\\n",
            "0           42.0                    20.0                        159   \n",
            "1           45.0                    19.0                        143   \n",
            "2           32.0                    23.0                        158   \n",
            "3           46.0                    19.0                        143   \n",
            "4           45.0                    19.0                        144   \n",
            "\n",
            "   scaled_variance  scaled_variance.1  scaled_radius_of_gyration  \\\n",
            "0            176.0              379.0                      184.0   \n",
            "1            170.0              330.0                      158.0   \n",
            "2            223.0              635.0                      220.0   \n",
            "3            160.0              309.0                      127.0   \n",
            "4            241.0              325.0                      188.0   \n",
            "\n",
            "   scaled_radius_of_gyration.1  skewness_about  skewness_about.1  \\\n",
            "0                         70.0             6.0              16.0   \n",
            "1                         72.0             9.0              14.0   \n",
            "2                         73.0            14.0               9.0   \n",
            "3                         63.0             6.0              10.0   \n",
            "4                        127.0             9.0              11.0   \n",
            "\n",
            "   skewness_about.2  hollows_ratio class  \n",
            "0             187.0            197   van  \n",
            "1             189.0            199   van  \n",
            "2             188.0            196   car  \n",
            "3             199.0            207   van  \n",
            "4             180.0            183   bus  \n",
            "\n",
            "3. Dataset Info:\n",
            "<class 'pandas.core.frame.DataFrame'>\n",
            "RangeIndex: 846 entries, 0 to 845\n",
            "Data columns (total 19 columns):\n",
            " #   Column                       Non-Null Count  Dtype  \n",
            "---  ------                       --------------  -----  \n",
            " 0   compactness                  846 non-null    int64  \n",
            " 1   circularity                  841 non-null    float64\n",
            " 2   distance_circularity         842 non-null    float64\n",
            " 3   radius_ratio                 840 non-null    float64\n",
            " 4   pr.axis_aspect_ratio         844 non-null    float64\n",
            " 5   max.length_aspect_ratio      846 non-null    int64  \n",
            " 6   scatter_ratio                845 non-null    float64\n",
            " 7   elongatedness                845 non-null    float64\n",
            " 8   pr.axis_rectangularity       843 non-null    float64\n",
            " 9   max.length_rectangularity    846 non-null    int64  \n",
            " 10  scaled_variance              843 non-null    float64\n",
            " 11  scaled_variance.1            844 non-null    float64\n",
            " 12  scaled_radius_of_gyration    844 non-null    float64\n",
            " 13  scaled_radius_of_gyration.1  842 non-null    float64\n",
            " 14  skewness_about               840 non-null    float64\n",
            " 15  skewness_about.1             845 non-null    float64\n",
            " 16  skewness_about.2             845 non-null    float64\n",
            " 17  hollows_ratio                846 non-null    int64  \n",
            " 18  class                        846 non-null    object \n",
            "dtypes: float64(14), int64(4), object(1)\n",
            "memory usage: 125.7+ KB\n",
            "None\n",
            "\n",
            "4. Statistical Summary:\n",
            "       compactness  circularity  distance_circularity  radius_ratio  \\\n",
            "count   846.000000   841.000000            842.000000    840.000000   \n",
            "mean     93.678487    44.828775             82.110451    168.888095   \n",
            "std       8.234474     6.152172             15.778292     33.520198   \n",
            "min      73.000000    33.000000             40.000000    104.000000   \n",
            "25%      87.000000    40.000000             70.000000    141.000000   \n",
            "50%      93.000000    44.000000             80.000000    167.000000   \n",
            "75%     100.000000    49.000000             98.000000    195.000000   \n",
            "max     119.000000    59.000000            112.000000    333.000000   \n",
            "\n",
            "       pr.axis_aspect_ratio  max.length_aspect_ratio  scatter_ratio  \\\n",
            "count            844.000000               846.000000     845.000000   \n",
            "mean              61.678910                 8.567376     168.901775   \n",
            "std                7.891463                 4.601217      33.214848   \n",
            "min               47.000000                 2.000000     112.000000   \n",
            "25%               57.000000                 7.000000     147.000000   \n",
            "50%               61.000000                 8.000000     157.000000   \n",
            "75%               65.000000                10.000000     198.000000   \n",
            "max              138.000000                55.000000     265.000000   \n",
            "\n",
            "       elongatedness  pr.axis_rectangularity  max.length_rectangularity  \\\n",
            "count     845.000000              843.000000                 846.000000   \n",
            "mean       40.933728               20.582444                 147.998818   \n",
            "std         7.816186                2.592933                  14.515652   \n",
            "min        26.000000               17.000000                 118.000000   \n",
            "25%        33.000000               19.000000                 137.000000   \n",
            "50%        43.000000               20.000000                 146.000000   \n",
            "75%        46.000000               23.000000                 159.000000   \n",
            "max        61.000000               29.000000                 188.000000   \n",
            "\n",
            "       scaled_variance  scaled_variance.1  scaled_radius_of_gyration  \\\n",
            "count       843.000000         844.000000                 844.000000   \n",
            "mean        188.631079         439.494076                 174.709716   \n",
            "std          31.411004         176.666903                  32.584808   \n",
            "min         130.000000         184.000000                 109.000000   \n",
            "25%         167.000000         318.000000                 149.000000   \n",
            "50%         179.000000         363.500000                 173.500000   \n",
            "75%         217.000000         587.000000                 198.000000   \n",
            "max         320.000000        1018.000000                 268.000000   \n",
            "\n",
            "       scaled_radius_of_gyration.1  skewness_about  skewness_about.1  \\\n",
            "count                   842.000000      840.000000        845.000000   \n",
            "mean                     72.447743        6.364286         12.602367   \n",
            "std                       7.486190        4.920649          8.936081   \n",
            "min                      59.000000        0.000000          0.000000   \n",
            "25%                      67.000000        2.000000          5.000000   \n",
            "50%                      71.500000        6.000000         11.000000   \n",
            "75%                      75.000000        9.000000         19.000000   \n",
            "max                     135.000000       22.000000         41.000000   \n",
            "\n",
            "       skewness_about.2  hollows_ratio  \n",
            "count        845.000000     846.000000  \n",
            "mean         188.919527     195.632388  \n",
            "std            6.155809       7.438797  \n",
            "min          176.000000     181.000000  \n",
            "25%          184.000000     190.250000  \n",
            "50%          188.000000     197.000000  \n",
            "75%          193.000000     201.000000  \n",
            "max          206.000000     211.000000  \n",
            "\n",
            "5. Missing Values Check:\n",
            "compactness                    0\n",
            "circularity                    5\n",
            "distance_circularity           4\n",
            "radius_ratio                   6\n",
            "pr.axis_aspect_ratio           2\n",
            "max.length_aspect_ratio        0\n",
            "scatter_ratio                  1\n",
            "elongatedness                  1\n",
            "pr.axis_rectangularity         3\n",
            "max.length_rectangularity      0\n",
            "scaled_variance                3\n",
            "scaled_variance.1              2\n",
            "scaled_radius_of_gyration      2\n",
            "scaled_radius_of_gyration.1    4\n",
            "skewness_about                 6\n",
            "skewness_about.1               1\n",
            "skewness_about.2               1\n",
            "hollows_ratio                  0\n",
            "class                          0\n",
            "dtype: int64\n",
            "\n",
            "6. Duplicate Rows Check:\n",
            "Number of duplicate rows: 0\n"
          ]
        }
      ]
    },
    {
      "cell_type": "code",
      "source": [
        "# Display basic dataset information\n",
        "print(\"\\nTarget Variable Distribution:\")\n",
        "print(df['class'].value_counts())"
      ],
      "metadata": {
        "colab": {
          "base_uri": "https://localhost:8080/"
        },
        "id": "_Uc5c8A1FPRY",
        "outputId": "0d81aeba-6b1e-450e-ac18-ef5dbbc9cbbd"
      },
      "execution_count": 4,
      "outputs": [
        {
          "output_type": "stream",
          "name": "stdout",
          "text": [
            "\n",
            "Target Variable Distribution:\n",
            "class\n",
            "car    429\n",
            "bus    218\n",
            "van    199\n",
            "Name: count, dtype: int64\n"
          ]
        }
      ]
    },
    {
      "cell_type": "markdown",
      "source": [
        "###2.2 Data Preprocessing and Standardization\n",
        "####2.2.1  Missing Values Analysis\n",
        "#### 2.2.2 Missing Values Visualization\n",
        "#### 2.2.3 Missing Values Teatment Strategy\n",
        "#### 2.2.4 Imputation Implementation\n",
        "#### 2.2.5 Feature Standardization\n",
        "#### 2.3 Train-Test Split Strategy"
      ],
      "metadata": {
        "id": "ob_93MEUZHid"
      }
    },
    {
      "cell_type": "code",
      "source": [
        "print(\"\\n\" + \"=\"*80)\n",
        "print(\"STEP 2.2.1: MISSING VALUES DIAGNOSTIC ANALYSIS\")\n",
        "print(\"=\"*80)"
      ],
      "metadata": {
        "colab": {
          "base_uri": "https://localhost:8080/"
        },
        "id": "-3f-jhIVaiw3",
        "outputId": "adb3a676-6ae2-47a0-8a02-c88fa3d0c445"
      },
      "execution_count": 5,
      "outputs": [
        {
          "output_type": "stream",
          "name": "stdout",
          "text": [
            "\n",
            "================================================================================\n",
            "STEP 2.2.1: MISSING VALUES DIAGNOSTIC ANALYSIS\n",
            "================================================================================\n"
          ]
        }
      ]
    },
    {
      "cell_type": "code",
      "source": [
        "# Comprehensive missing values analysis\n",
        "def analyze_missing_values(df):\n",
        "    \"\"\"Comprehensive analysis of missing values in the dataset\"\"\"\n",
        "\n",
        "    # Basic Dataset Info\n",
        "    print(\"1. BASIC DATASET INFO:\")\n",
        "    print(f\"Dataset shape: {df.shape}\")\n",
        "    print(f\"Total cells: {df.shape[0] * df.shape[1]}\")\n",
        "\n",
        "    # Missing Values Summary\n",
        "    print(\"\\n2. MISSING VALUES SUMMARY:\")\n",
        "    missing_count = df.isnull().sum()\n",
        "    missing_percent = (df.isnull().sum() / len(df)) * 100\n",
        "\n",
        "    missing_df = pd.DataFrame({\n",
        "        'Column': df.columns,\n",
        "        'Missing_Count': missing_count,\n",
        "        'Missing_Percentage': missing_percent\n",
        "    }).sort_values('Missing_Percentage', ascending=False)\n",
        "\n",
        "    print(missing_df[missing_df['Missing_Count'] > 0])\n",
        "\n",
        "    # Overall missing data statistics\n",
        "    total_missing = df.isnull().sum().sum()\n",
        "    total_cells = df.shape[0] * df.shape[1]\n",
        "    overall_missing_percent = (total_missing / total_cells) * 100\n",
        "\n",
        "    print(f\"\\n3. OVERALL MISSING DATA:\")\n",
        "    print(f\"Total missing values: {total_missing}\")\n",
        "    print(f\"Overall missing percentage: {overall_missing_percent:.2f}%\")\n",
        "\n",
        "    return missing_df"
      ],
      "metadata": {
        "id": "lTast-sMdk5k"
      },
      "execution_count": 7,
      "outputs": []
    },
    {
      "cell_type": "code",
      "source": [],
      "metadata": {
        "id": "DU6Te0iKkK9V"
      },
      "execution_count": null,
      "outputs": []
    },
    {
      "cell_type": "code",
      "source": [
        "analyze_missing_values(df)"
      ],
      "metadata": {
        "colab": {
          "base_uri": "https://localhost:8080/",
          "height": 1000
        },
        "id": "dLprOl58kKzv",
        "outputId": "40d4c6a5-eebd-4b33-f076-9ae91f228f1b"
      },
      "execution_count": 8,
      "outputs": [
        {
          "output_type": "stream",
          "name": "stdout",
          "text": [
            "1. BASIC DATASET INFO:\n",
            "Dataset shape: (846, 19)\n",
            "Total cells: 16074\n",
            "\n",
            "2. MISSING VALUES SUMMARY:\n",
            "                                                  Column  Missing_Count  \\\n",
            "radius_ratio                                radius_ratio              6   \n",
            "skewness_about                            skewness_about              6   \n",
            "circularity                                  circularity              5   \n",
            "scaled_radius_of_gyration.1  scaled_radius_of_gyration.1              4   \n",
            "distance_circularity                distance_circularity              4   \n",
            "scaled_variance                          scaled_variance              3   \n",
            "pr.axis_rectangularity            pr.axis_rectangularity              3   \n",
            "scaled_variance.1                      scaled_variance.1              2   \n",
            "scaled_radius_of_gyration      scaled_radius_of_gyration              2   \n",
            "pr.axis_aspect_ratio                pr.axis_aspect_ratio              2   \n",
            "skewness_about.1                        skewness_about.1              1   \n",
            "scatter_ratio                              scatter_ratio              1   \n",
            "skewness_about.2                        skewness_about.2              1   \n",
            "elongatedness                              elongatedness              1   \n",
            "\n",
            "                             Missing_Percentage  \n",
            "radius_ratio                           0.709220  \n",
            "skewness_about                         0.709220  \n",
            "circularity                            0.591017  \n",
            "scaled_radius_of_gyration.1            0.472813  \n",
            "distance_circularity                   0.472813  \n",
            "scaled_variance                        0.354610  \n",
            "pr.axis_rectangularity                 0.354610  \n",
            "scaled_variance.1                      0.236407  \n",
            "scaled_radius_of_gyration              0.236407  \n",
            "pr.axis_aspect_ratio                   0.236407  \n",
            "skewness_about.1                       0.118203  \n",
            "scatter_ratio                          0.118203  \n",
            "skewness_about.2                       0.118203  \n",
            "elongatedness                          0.118203  \n",
            "\n",
            "3. OVERALL MISSING DATA:\n",
            "Total missing values: 41\n",
            "Overall missing percentage: 0.26%\n"
          ]
        },
        {
          "output_type": "execute_result",
          "data": {
            "text/plain": [
              "                                                  Column  Missing_Count  \\\n",
              "radius_ratio                                radius_ratio              6   \n",
              "skewness_about                            skewness_about              6   \n",
              "circularity                                  circularity              5   \n",
              "scaled_radius_of_gyration.1  scaled_radius_of_gyration.1              4   \n",
              "distance_circularity                distance_circularity              4   \n",
              "scaled_variance                          scaled_variance              3   \n",
              "pr.axis_rectangularity            pr.axis_rectangularity              3   \n",
              "scaled_variance.1                      scaled_variance.1              2   \n",
              "scaled_radius_of_gyration      scaled_radius_of_gyration              2   \n",
              "pr.axis_aspect_ratio                pr.axis_aspect_ratio              2   \n",
              "skewness_about.1                        skewness_about.1              1   \n",
              "scatter_ratio                              scatter_ratio              1   \n",
              "skewness_about.2                        skewness_about.2              1   \n",
              "elongatedness                              elongatedness              1   \n",
              "compactness                                  compactness              0   \n",
              "max.length_rectangularity      max.length_rectangularity              0   \n",
              "max.length_aspect_ratio          max.length_aspect_ratio              0   \n",
              "hollows_ratio                              hollows_ratio              0   \n",
              "class                                              class              0   \n",
              "\n",
              "                             Missing_Percentage  \n",
              "radius_ratio                           0.709220  \n",
              "skewness_about                         0.709220  \n",
              "circularity                            0.591017  \n",
              "scaled_radius_of_gyration.1            0.472813  \n",
              "distance_circularity                   0.472813  \n",
              "scaled_variance                        0.354610  \n",
              "pr.axis_rectangularity                 0.354610  \n",
              "scaled_variance.1                      0.236407  \n",
              "scaled_radius_of_gyration              0.236407  \n",
              "pr.axis_aspect_ratio                   0.236407  \n",
              "skewness_about.1                       0.118203  \n",
              "scatter_ratio                          0.118203  \n",
              "skewness_about.2                       0.118203  \n",
              "elongatedness                          0.118203  \n",
              "compactness                            0.000000  \n",
              "max.length_rectangularity              0.000000  \n",
              "max.length_aspect_ratio                0.000000  \n",
              "hollows_ratio                          0.000000  \n",
              "class                                  0.000000  "
            ],
            "text/html": [
              "\n",
              "  <div id=\"df-e4fb9b3a-af98-44ca-aa7c-edd0bd1a212a\" class=\"colab-df-container\">\n",
              "    <div>\n",
              "<style scoped>\n",
              "    .dataframe tbody tr th:only-of-type {\n",
              "        vertical-align: middle;\n",
              "    }\n",
              "\n",
              "    .dataframe tbody tr th {\n",
              "        vertical-align: top;\n",
              "    }\n",
              "\n",
              "    .dataframe thead th {\n",
              "        text-align: right;\n",
              "    }\n",
              "</style>\n",
              "<table border=\"1\" class=\"dataframe\">\n",
              "  <thead>\n",
              "    <tr style=\"text-align: right;\">\n",
              "      <th></th>\n",
              "      <th>Column</th>\n",
              "      <th>Missing_Count</th>\n",
              "      <th>Missing_Percentage</th>\n",
              "    </tr>\n",
              "  </thead>\n",
              "  <tbody>\n",
              "    <tr>\n",
              "      <th>radius_ratio</th>\n",
              "      <td>radius_ratio</td>\n",
              "      <td>6</td>\n",
              "      <td>0.709220</td>\n",
              "    </tr>\n",
              "    <tr>\n",
              "      <th>skewness_about</th>\n",
              "      <td>skewness_about</td>\n",
              "      <td>6</td>\n",
              "      <td>0.709220</td>\n",
              "    </tr>\n",
              "    <tr>\n",
              "      <th>circularity</th>\n",
              "      <td>circularity</td>\n",
              "      <td>5</td>\n",
              "      <td>0.591017</td>\n",
              "    </tr>\n",
              "    <tr>\n",
              "      <th>scaled_radius_of_gyration.1</th>\n",
              "      <td>scaled_radius_of_gyration.1</td>\n",
              "      <td>4</td>\n",
              "      <td>0.472813</td>\n",
              "    </tr>\n",
              "    <tr>\n",
              "      <th>distance_circularity</th>\n",
              "      <td>distance_circularity</td>\n",
              "      <td>4</td>\n",
              "      <td>0.472813</td>\n",
              "    </tr>\n",
              "    <tr>\n",
              "      <th>scaled_variance</th>\n",
              "      <td>scaled_variance</td>\n",
              "      <td>3</td>\n",
              "      <td>0.354610</td>\n",
              "    </tr>\n",
              "    <tr>\n",
              "      <th>pr.axis_rectangularity</th>\n",
              "      <td>pr.axis_rectangularity</td>\n",
              "      <td>3</td>\n",
              "      <td>0.354610</td>\n",
              "    </tr>\n",
              "    <tr>\n",
              "      <th>scaled_variance.1</th>\n",
              "      <td>scaled_variance.1</td>\n",
              "      <td>2</td>\n",
              "      <td>0.236407</td>\n",
              "    </tr>\n",
              "    <tr>\n",
              "      <th>scaled_radius_of_gyration</th>\n",
              "      <td>scaled_radius_of_gyration</td>\n",
              "      <td>2</td>\n",
              "      <td>0.236407</td>\n",
              "    </tr>\n",
              "    <tr>\n",
              "      <th>pr.axis_aspect_ratio</th>\n",
              "      <td>pr.axis_aspect_ratio</td>\n",
              "      <td>2</td>\n",
              "      <td>0.236407</td>\n",
              "    </tr>\n",
              "    <tr>\n",
              "      <th>skewness_about.1</th>\n",
              "      <td>skewness_about.1</td>\n",
              "      <td>1</td>\n",
              "      <td>0.118203</td>\n",
              "    </tr>\n",
              "    <tr>\n",
              "      <th>scatter_ratio</th>\n",
              "      <td>scatter_ratio</td>\n",
              "      <td>1</td>\n",
              "      <td>0.118203</td>\n",
              "    </tr>\n",
              "    <tr>\n",
              "      <th>skewness_about.2</th>\n",
              "      <td>skewness_about.2</td>\n",
              "      <td>1</td>\n",
              "      <td>0.118203</td>\n",
              "    </tr>\n",
              "    <tr>\n",
              "      <th>elongatedness</th>\n",
              "      <td>elongatedness</td>\n",
              "      <td>1</td>\n",
              "      <td>0.118203</td>\n",
              "    </tr>\n",
              "    <tr>\n",
              "      <th>compactness</th>\n",
              "      <td>compactness</td>\n",
              "      <td>0</td>\n",
              "      <td>0.000000</td>\n",
              "    </tr>\n",
              "    <tr>\n",
              "      <th>max.length_rectangularity</th>\n",
              "      <td>max.length_rectangularity</td>\n",
              "      <td>0</td>\n",
              "      <td>0.000000</td>\n",
              "    </tr>\n",
              "    <tr>\n",
              "      <th>max.length_aspect_ratio</th>\n",
              "      <td>max.length_aspect_ratio</td>\n",
              "      <td>0</td>\n",
              "      <td>0.000000</td>\n",
              "    </tr>\n",
              "    <tr>\n",
              "      <th>hollows_ratio</th>\n",
              "      <td>hollows_ratio</td>\n",
              "      <td>0</td>\n",
              "      <td>0.000000</td>\n",
              "    </tr>\n",
              "    <tr>\n",
              "      <th>class</th>\n",
              "      <td>class</td>\n",
              "      <td>0</td>\n",
              "      <td>0.000000</td>\n",
              "    </tr>\n",
              "  </tbody>\n",
              "</table>\n",
              "</div>\n",
              "    <div class=\"colab-df-buttons\">\n",
              "\n",
              "  <div class=\"colab-df-container\">\n",
              "    <button class=\"colab-df-convert\" onclick=\"convertToInteractive('df-e4fb9b3a-af98-44ca-aa7c-edd0bd1a212a')\"\n",
              "            title=\"Convert this dataframe to an interactive table.\"\n",
              "            style=\"display:none;\">\n",
              "\n",
              "  <svg xmlns=\"http://www.w3.org/2000/svg\" height=\"24px\" viewBox=\"0 -960 960 960\">\n",
              "    <path d=\"M120-120v-720h720v720H120Zm60-500h600v-160H180v160Zm220 220h160v-160H400v160Zm0 220h160v-160H400v160ZM180-400h160v-160H180v160Zm440 0h160v-160H620v160ZM180-180h160v-160H180v160Zm440 0h160v-160H620v160Z\"/>\n",
              "  </svg>\n",
              "    </button>\n",
              "\n",
              "  <style>\n",
              "    .colab-df-container {\n",
              "      display:flex;\n",
              "      gap: 12px;\n",
              "    }\n",
              "\n",
              "    .colab-df-convert {\n",
              "      background-color: #E8F0FE;\n",
              "      border: none;\n",
              "      border-radius: 50%;\n",
              "      cursor: pointer;\n",
              "      display: none;\n",
              "      fill: #1967D2;\n",
              "      height: 32px;\n",
              "      padding: 0 0 0 0;\n",
              "      width: 32px;\n",
              "    }\n",
              "\n",
              "    .colab-df-convert:hover {\n",
              "      background-color: #E2EBFA;\n",
              "      box-shadow: 0px 1px 2px rgba(60, 64, 67, 0.3), 0px 1px 3px 1px rgba(60, 64, 67, 0.15);\n",
              "      fill: #174EA6;\n",
              "    }\n",
              "\n",
              "    .colab-df-buttons div {\n",
              "      margin-bottom: 4px;\n",
              "    }\n",
              "\n",
              "    [theme=dark] .colab-df-convert {\n",
              "      background-color: #3B4455;\n",
              "      fill: #D2E3FC;\n",
              "    }\n",
              "\n",
              "    [theme=dark] .colab-df-convert:hover {\n",
              "      background-color: #434B5C;\n",
              "      box-shadow: 0px 1px 3px 1px rgba(0, 0, 0, 0.15);\n",
              "      filter: drop-shadow(0px 1px 2px rgba(0, 0, 0, 0.3));\n",
              "      fill: #FFFFFF;\n",
              "    }\n",
              "  </style>\n",
              "\n",
              "    <script>\n",
              "      const buttonEl =\n",
              "        document.querySelector('#df-e4fb9b3a-af98-44ca-aa7c-edd0bd1a212a button.colab-df-convert');\n",
              "      buttonEl.style.display =\n",
              "        google.colab.kernel.accessAllowed ? 'block' : 'none';\n",
              "\n",
              "      async function convertToInteractive(key) {\n",
              "        const element = document.querySelector('#df-e4fb9b3a-af98-44ca-aa7c-edd0bd1a212a');\n",
              "        const dataTable =\n",
              "          await google.colab.kernel.invokeFunction('convertToInteractive',\n",
              "                                                    [key], {});\n",
              "        if (!dataTable) return;\n",
              "\n",
              "        const docLinkHtml = 'Like what you see? Visit the ' +\n",
              "          '<a target=\"_blank\" href=https://colab.research.google.com/notebooks/data_table.ipynb>data table notebook</a>'\n",
              "          + ' to learn more about interactive tables.';\n",
              "        element.innerHTML = '';\n",
              "        dataTable['output_type'] = 'display_data';\n",
              "        await google.colab.output.renderOutput(dataTable, element);\n",
              "        const docLink = document.createElement('div');\n",
              "        docLink.innerHTML = docLinkHtml;\n",
              "        element.appendChild(docLink);\n",
              "      }\n",
              "    </script>\n",
              "  </div>\n",
              "\n",
              "\n",
              "    <div id=\"df-44fa00d1-1f7f-4671-92bf-85ef2daa5d41\">\n",
              "      <button class=\"colab-df-quickchart\" onclick=\"quickchart('df-44fa00d1-1f7f-4671-92bf-85ef2daa5d41')\"\n",
              "                title=\"Suggest charts\"\n",
              "                style=\"display:none;\">\n",
              "\n",
              "<svg xmlns=\"http://www.w3.org/2000/svg\" height=\"24px\"viewBox=\"0 0 24 24\"\n",
              "     width=\"24px\">\n",
              "    <g>\n",
              "        <path d=\"M19 3H5c-1.1 0-2 .9-2 2v14c0 1.1.9 2 2 2h14c1.1 0 2-.9 2-2V5c0-1.1-.9-2-2-2zM9 17H7v-7h2v7zm4 0h-2V7h2v10zm4 0h-2v-4h2v4z\"/>\n",
              "    </g>\n",
              "</svg>\n",
              "      </button>\n",
              "\n",
              "<style>\n",
              "  .colab-df-quickchart {\n",
              "      --bg-color: #E8F0FE;\n",
              "      --fill-color: #1967D2;\n",
              "      --hover-bg-color: #E2EBFA;\n",
              "      --hover-fill-color: #174EA6;\n",
              "      --disabled-fill-color: #AAA;\n",
              "      --disabled-bg-color: #DDD;\n",
              "  }\n",
              "\n",
              "  [theme=dark] .colab-df-quickchart {\n",
              "      --bg-color: #3B4455;\n",
              "      --fill-color: #D2E3FC;\n",
              "      --hover-bg-color: #434B5C;\n",
              "      --hover-fill-color: #FFFFFF;\n",
              "      --disabled-bg-color: #3B4455;\n",
              "      --disabled-fill-color: #666;\n",
              "  }\n",
              "\n",
              "  .colab-df-quickchart {\n",
              "    background-color: var(--bg-color);\n",
              "    border: none;\n",
              "    border-radius: 50%;\n",
              "    cursor: pointer;\n",
              "    display: none;\n",
              "    fill: var(--fill-color);\n",
              "    height: 32px;\n",
              "    padding: 0;\n",
              "    width: 32px;\n",
              "  }\n",
              "\n",
              "  .colab-df-quickchart:hover {\n",
              "    background-color: var(--hover-bg-color);\n",
              "    box-shadow: 0 1px 2px rgba(60, 64, 67, 0.3), 0 1px 3px 1px rgba(60, 64, 67, 0.15);\n",
              "    fill: var(--button-hover-fill-color);\n",
              "  }\n",
              "\n",
              "  .colab-df-quickchart-complete:disabled,\n",
              "  .colab-df-quickchart-complete:disabled:hover {\n",
              "    background-color: var(--disabled-bg-color);\n",
              "    fill: var(--disabled-fill-color);\n",
              "    box-shadow: none;\n",
              "  }\n",
              "\n",
              "  .colab-df-spinner {\n",
              "    border: 2px solid var(--fill-color);\n",
              "    border-color: transparent;\n",
              "    border-bottom-color: var(--fill-color);\n",
              "    animation:\n",
              "      spin 1s steps(1) infinite;\n",
              "  }\n",
              "\n",
              "  @keyframes spin {\n",
              "    0% {\n",
              "      border-color: transparent;\n",
              "      border-bottom-color: var(--fill-color);\n",
              "      border-left-color: var(--fill-color);\n",
              "    }\n",
              "    20% {\n",
              "      border-color: transparent;\n",
              "      border-left-color: var(--fill-color);\n",
              "      border-top-color: var(--fill-color);\n",
              "    }\n",
              "    30% {\n",
              "      border-color: transparent;\n",
              "      border-left-color: var(--fill-color);\n",
              "      border-top-color: var(--fill-color);\n",
              "      border-right-color: var(--fill-color);\n",
              "    }\n",
              "    40% {\n",
              "      border-color: transparent;\n",
              "      border-right-color: var(--fill-color);\n",
              "      border-top-color: var(--fill-color);\n",
              "    }\n",
              "    60% {\n",
              "      border-color: transparent;\n",
              "      border-right-color: var(--fill-color);\n",
              "    }\n",
              "    80% {\n",
              "      border-color: transparent;\n",
              "      border-right-color: var(--fill-color);\n",
              "      border-bottom-color: var(--fill-color);\n",
              "    }\n",
              "    90% {\n",
              "      border-color: transparent;\n",
              "      border-bottom-color: var(--fill-color);\n",
              "    }\n",
              "  }\n",
              "</style>\n",
              "\n",
              "      <script>\n",
              "        async function quickchart(key) {\n",
              "          const quickchartButtonEl =\n",
              "            document.querySelector('#' + key + ' button');\n",
              "          quickchartButtonEl.disabled = true;  // To prevent multiple clicks.\n",
              "          quickchartButtonEl.classList.add('colab-df-spinner');\n",
              "          try {\n",
              "            const charts = await google.colab.kernel.invokeFunction(\n",
              "                'suggestCharts', [key], {});\n",
              "          } catch (error) {\n",
              "            console.error('Error during call to suggestCharts:', error);\n",
              "          }\n",
              "          quickchartButtonEl.classList.remove('colab-df-spinner');\n",
              "          quickchartButtonEl.classList.add('colab-df-quickchart-complete');\n",
              "        }\n",
              "        (() => {\n",
              "          let quickchartButtonEl =\n",
              "            document.querySelector('#df-44fa00d1-1f7f-4671-92bf-85ef2daa5d41 button');\n",
              "          quickchartButtonEl.style.display =\n",
              "            google.colab.kernel.accessAllowed ? 'block' : 'none';\n",
              "        })();\n",
              "      </script>\n",
              "    </div>\n",
              "\n",
              "    </div>\n",
              "  </div>\n"
            ],
            "application/vnd.google.colaboratory.intrinsic+json": {
              "type": "dataframe",
              "summary": "{\n  \"name\": \"analyze_missing_values(df)\",\n  \"rows\": 19,\n  \"fields\": [\n    {\n      \"column\": \"Column\",\n      \"properties\": {\n        \"dtype\": \"string\",\n        \"num_unique_values\": 19,\n        \"samples\": [\n          \"radius_ratio\",\n          \"scaled_variance\",\n          \"scatter_ratio\"\n        ],\n        \"semantic_type\": \"\",\n        \"description\": \"\"\n      }\n    },\n    {\n      \"column\": \"Missing_Count\",\n      \"properties\": {\n        \"dtype\": \"number\",\n        \"std\": 2,\n        \"min\": 0,\n        \"max\": 6,\n        \"num_unique_values\": 7,\n        \"samples\": [\n          6,\n          5,\n          1\n        ],\n        \"semantic_type\": \"\",\n        \"description\": \"\"\n      }\n    },\n    {\n      \"column\": \"Missing_Percentage\",\n      \"properties\": {\n        \"dtype\": \"number\",\n        \"std\": 0.24051834710128953,\n        \"min\": 0.0,\n        \"max\": 0.7092198581560284,\n        \"num_unique_values\": 7,\n        \"samples\": [\n          0.7092198581560284,\n          0.5910165484633569,\n          0.1182033096926714\n        ],\n        \"semantic_type\": \"\",\n        \"description\": \"\"\n      }\n    }\n  ]\n}"
            }
          },
          "metadata": {},
          "execution_count": 8
        }
      ]
    },
    {
      "cell_type": "code",
      "source": [],
      "metadata": {
        "id": "Jwb7qj4ckKrK"
      },
      "execution_count": null,
      "outputs": []
    },
    {
      "cell_type": "code",
      "source": [
        "print(\"\\n\" + \"=\"*80)\n",
        "print(\"STEP 2.2.2: MISSING VALUES VISUALIZATION\")\n",
        "print(\"=\"*80)"
      ],
      "metadata": {
        "colab": {
          "base_uri": "https://localhost:8080/"
        },
        "id": "xozWChGUdkuW",
        "outputId": "d504dc23-0706-45a2-9dd6-de0f74f072d5"
      },
      "execution_count": 9,
      "outputs": [
        {
          "output_type": "stream",
          "name": "stdout",
          "text": [
            "\n",
            "================================================================================\n",
            "STEP 2.2.2: MISSING VALUES VISUALIZATION\n",
            "================================================================================\n"
          ]
        }
      ]
    },
    {
      "cell_type": "code",
      "source": [
        "def visualize_missing_values(df):\n",
        "    \"\"\"Create visualizations to understand missing value patterns\"\"\"\n",
        "\n",
        "fig, axes = plt.subplots(1, 3, figsize=(18, 6))\n",
        "\n",
        "# 1. Missing values heatmap\n",
        "sns.heatmap(df.isnull(), yticklabels=False, cbar=True, cmap='viridis', ax=axes[0])\n",
        "axes[0].set_title('Missing Values Heatmap\\n(Yellow = Missing)')\n",
        "\n",
        "# 2. Missing values bar plot\n",
        "missing_counts = df.isnull().sum()\n",
        "missing_counts[missing_counts > 0].plot(kind='bar', ax=axes[1])\n",
        "axes[1].set_title('Missing Values Count by Column')\n",
        "axes[1].set_xlabel('Columns')\n",
        "axes[1].set_ylabel('Missing Count')\n",
        "axes[1].tick_params(axis='x', rotation=90)\n",
        "\n",
        "# 3. Missing values percentage\n",
        "missing_percent = (df.isnull().sum() / len(df)) * 100\n",
        "missing_percent[missing_percent > 0].plot(kind='bar', ax=axes[2], color='red', alpha=0.7)\n",
        "axes[2].set_title('Missing Values Percentage by Column')\n",
        "axes[2].set_xlabel('Columns')\n",
        "axes[2].set_ylabel('Missing Percentage (%)')\n",
        "axes[2].tick_params(axis='x', rotation=90)\n",
        "\n",
        "plt.tight_layout()\n",
        "plt.show()"
      ],
      "metadata": {
        "colab": {
          "base_uri": "https://localhost:8080/",
          "height": 241
        },
        "id": "rjFRFuFYdkhL",
        "outputId": "be017c46-9906-4840-ca3c-e57c371729c9"
      },
      "execution_count": 10,
      "outputs": [
        {
          "output_type": "display_data",
          "data": {
            "text/plain": [
              "<Figure size 1800x600 with 4 Axes>"
            ],
            "image/png": "[encoded data removed]"
          },
          "metadata": {}
        }
      ]
    },
    {
      "cell_type": "code",
      "source": [
        "print(\"\\n\" + \"=\"*80)\n",
        "print(\"STEP 2.2.3: MISSING VALUES TREATMENT STRATEGY\")\n",
        "print(\"=\"*80)\n"
      ],
      "metadata": {
        "colab": {
          "base_uri": "https://localhost:8080/"
        },
        "id": "ZQT6OD7NiqoI",
        "outputId": "233d487c-95ce-4016-bee1-1a3a96418b90"
      },
      "execution_count": 11,
      "outputs": [
        {
          "output_type": "stream",
          "name": "stdout",
          "text": [
            "\n",
            "================================================================================\n",
            "STEP 2.2.3: MISSING VALUES TREATMENT STRATEGY\n",
            "================================================================================\n"
          ]
        }
      ]
    },
    {
      "cell_type": "code",
      "source": [
        "# Missing values treatment\n",
        "\n",
        "def implement_missing_values_strategy(missing_df, df):\n",
        "    \"\"\"Implement strategy based on missing values analysis\"\"\"\n",
        "\n",
        "    high_missing_cols = missing_df[missing_df['Missing_Percentage'] > 50]\n",
        "    medium_missing_cols = missing_df[(missing_df['Missing_Percentage'] > 10) &\n",
        "                                     (missing_df['Missing_Percentage'] <= 50)]\n",
        "    low_missing_cols = missing_df[(missing_df['Missing_Percentage'] > 0) &\n",
        "                                  (missing_df['Missing_Percentage'] <= 10)]\n",
        "\n",
        "    print(\"IMPLEMENTATION APPROACH:\")\n",
        "    print(\"-\" * 80)\n",
        "\n",
        "    # High missing (>50%)\n",
        "    if not high_missing_cols.empty:\n",
        "        print(\"🚨 HIGH MISSING (>50%) - CONSIDER DROPPING:\")\n",
        "        for idx, row in high_missing_cols.iterrows():\n",
        "            print(f\"  • {row['Column']}: {row['Missing_Percentage']:.1f}% missing\")\n",
        "        print(\"  → Implementation: DROP these columns (insufficient data)\")\n",
        "\n",
        "    # Medium missing (10-50%)\n",
        "    if not medium_missing_cols.empty:\n",
        "        print(\"\\n⚠️  MEDIUM MISSING (10-50%) - CAREFUL IMPUTATION:\")\n",
        "        for idx, row in medium_missing_cols.iterrows():\n",
        "            print(f\"  • {row['Column']}: {row['Missing_Percentage']:.1f}% missing\")\n",
        "        print(\"  → Implementation: Advanced imputation (KNN/Iterative)\")\n",
        "\n",
        "    # Low missing (<10%)\n",
        "    if not low_missing_cols.empty:\n",
        "        print(\"\\n✅ LOW MISSING (<10%) - SAFE TO IMPUTE:\")\n",
        "        for idx, row in low_missing_cols.iterrows():\n",
        "            print(f\"  • {row['Column']}: {row['Missing_Percentage']:.1f}% missing\")\n",
        "        print(\"  → Implementation: Mean/Median imputation acceptable\")\n",
        "\n",
        "    # Overall implementation\n",
        "    total_missing_percent = total_missing_percent = (df.isnull().sum().sum() / (df.shape[0] * df.shape[1])) * 100\n",
        "\n",
        "    print(f\"\\n📊 OVERALL STRATEGY:\")\n",
        "    if total_missing_percent < 5:\n",
        "        print(f\"  • Overall missing: {total_missing_percent:.2f}% - IMPUTATION implemented\")\n",
        "        return \"impute\"\n",
        "\n",
        "    elif total_missing_percent < 15:\n",
        "        print(f\"  • Overall missing: {total_missing_percent:.2f}% - HYBRID approach\")\n",
        "        return \"hybrid\"\n",
        "\n",
        "    else:\n",
        "        print(f\"  • Overall missing: {total_missing_percent:.2f}% - Consider DATA QUALITY issues\")\n",
        "        return \"investigate\""
      ],
      "metadata": {
        "id": "SeVct_8ZlF9G"
      },
      "execution_count": 12,
      "outputs": []
    },
    {
      "cell_type": "code",
      "source": [
        "# Display result\n",
        "result = implement_missing_values_strategy(missing_df, df)\n",
        "print(f\"\\nReturned strategy: {result}\")"
      ],
      "metadata": {
        "colab": {
          "base_uri": "https://localhost:8080/",
          "height": 173
        },
        "id": "SGnGS6W118xK",
        "outputId": "856edce7-e455-49e7-bf99-13a1efe6c445"
      },
      "execution_count": 13,
      "outputs": [
        {
          "output_type": "error",
          "ename": "NameError",
          "evalue": "name 'missing_df' is not defined",
          "traceback": [
            "\u001b[0;31m---------------------------------------------------------------------------\u001b[0m",
            "\u001b[0;31mNameError\u001b[0m                                 Traceback (most recent call last)",
            "\u001b[0;32m/tmp/ipython-input-863557079.py\u001b[0m in \u001b[0;36m<cell line: 0>\u001b[0;34m()\u001b[0m\n\u001b[1;32m      1\u001b[0m \u001b[0;31m# Display result\u001b[0m\u001b[0;34m\u001b[0m\u001b[0;34m\u001b[0m\u001b[0m\n\u001b[0;32m----> 2\u001b[0;31m \u001b[0mresult\u001b[0m \u001b[0;34m=\u001b[0m \u001b[0mimplement_missing_values_strategy\u001b[0m\u001b[0;34m(\u001b[0m\u001b[0mmissing_df\u001b[0m\u001b[0;34m,\u001b[0m \u001b[0mdf\u001b[0m\u001b[0;34m)\u001b[0m\u001b[0;34m\u001b[0m\u001b[0;34m\u001b[0m\u001b[0m\n\u001b[0m\u001b[1;32m      3\u001b[0m \u001b[0mprint\u001b[0m\u001b[0;34m(\u001b[0m\u001b[0;34mf\"\\nReturned strategy: {result}\"\u001b[0m\u001b[0;34m)\u001b[0m\u001b[0;34m\u001b[0m\u001b[0;34m\u001b[0m\u001b[0m\n",
            "\u001b[0;31mNameError\u001b[0m: name 'missing_df' is not defined"
          ]
        }
      ]
    },
    {
      "cell_type": "code",
      "source": [
        "missing_df = analyze_missing_values(df)"
      ],
      "metadata": {
        "colab": {
          "base_uri": "https://localhost:8080/"
        },
        "id": "Pe9roDhDlun6",
        "outputId": "7473924e-fdc9-4c62-9f25-9090ff718271"
      },
      "execution_count": 14,
      "outputs": [
        {
          "output_type": "stream",
          "name": "stdout",
          "text": [
            "1. BASIC DATASET INFO:\n",
            "Dataset shape: (846, 19)\n",
            "Total cells: 16074\n",
            "\n",
            "2. MISSING VALUES SUMMARY:\n",
            "                                                  Column  Missing_Count  \\\n",
            "radius_ratio                                radius_ratio              6   \n",
            "skewness_about                            skewness_about              6   \n",
            "circularity                                  circularity              5   \n",
            "scaled_radius_of_gyration.1  scaled_radius_of_gyration.1              4   \n",
            "distance_circularity                distance_circularity              4   \n",
            "scaled_variance                          scaled_variance              3   \n",
            "pr.axis_rectangularity            pr.axis_rectangularity              3   \n",
            "scaled_variance.1                      scaled_variance.1              2   \n",
            "scaled_radius_of_gyration      scaled_radius_of_gyration              2   \n",
            "pr.axis_aspect_ratio                pr.axis_aspect_ratio              2   \n",
            "skewness_about.1                        skewness_about.1              1   \n",
            "scatter_ratio                              scatter_ratio              1   \n",
            "skewness_about.2                        skewness_about.2              1   \n",
            "elongatedness                              elongatedness              1   \n",
            "\n",
            "                             Missing_Percentage  \n",
            "radius_ratio                           0.709220  \n",
            "skewness_about                         0.709220  \n",
            "circularity                            0.591017  \n",
            "scaled_radius_of_gyration.1            0.472813  \n",
            "distance_circularity                   0.472813  \n",
            "scaled_variance                        0.354610  \n",
            "pr.axis_rectangularity                 0.354610  \n",
            "scaled_variance.1                      0.236407  \n",
            "scaled_radius_of_gyration              0.236407  \n",
            "pr.axis_aspect_ratio                   0.236407  \n",
            "skewness_about.1                       0.118203  \n",
            "scatter_ratio                          0.118203  \n",
            "skewness_about.2                       0.118203  \n",
            "elongatedness                          0.118203  \n",
            "\n",
            "3. OVERALL MISSING DATA:\n",
            "Total missing values: 41\n",
            "Overall missing percentage: 0.26%\n"
          ]
        }
      ]
    },
    {
      "cell_type": "code",
      "source": [
        "strategy_result = implement_missing_values_strategy(missing_df, df)"
      ],
      "metadata": {
        "colab": {
          "base_uri": "https://localhost:8080/"
        },
        "id": "79hZddrxluic",
        "outputId": "276a8b81-7a72-4869-8910-7d5a92ce456a"
      },
      "execution_count": 15,
      "outputs": [
        {
          "output_type": "stream",
          "name": "stdout",
          "text": [
            "IMPLEMENTATION APPROACH:\n",
            "--------------------------------------------------------------------------------\n",
            "\n",
            "✅ LOW MISSING (<10%) - SAFE TO IMPUTE:\n",
            "  • radius_ratio: 0.7% missing\n",
            "  • skewness_about: 0.7% missing\n",
            "  • circularity: 0.6% missing\n",
            "  • scaled_radius_of_gyration.1: 0.5% missing\n",
            "  • distance_circularity: 0.5% missing\n",
            "  • scaled_variance: 0.4% missing\n",
            "  • pr.axis_rectangularity: 0.4% missing\n",
            "  • scaled_variance.1: 0.2% missing\n",
            "  • scaled_radius_of_gyration: 0.2% missing\n",
            "  • pr.axis_aspect_ratio: 0.2% missing\n",
            "  • skewness_about.1: 0.1% missing\n",
            "  • scatter_ratio: 0.1% missing\n",
            "  • skewness_about.2: 0.1% missing\n",
            "  • elongatedness: 0.1% missing\n",
            "  → Implementation: Mean/Median imputation acceptable\n",
            "\n",
            "📊 OVERALL STRATEGY:\n",
            "  • Overall missing: 0.26% - IMPUTATION implemented\n"
          ]
        }
      ]
    },
    {
      "cell_type": "code",
      "source": [],
      "metadata": {
        "id": "ji09XqUAluaK"
      },
      "execution_count": 15,
      "outputs": []
    },
    {
      "cell_type": "code",
      "source": [
        "print(\"\\n\" + \"=\"*80)\n",
        "print(\"STEP 2.2.4: IMPUTATION IMPLEMENTATION\")\n",
        "print(\"=\"*80)"
      ],
      "metadata": {
        "colab": {
          "base_uri": "https://localhost:8080/"
        },
        "id": "lJFrfJQM18nT",
        "outputId": "0546ff0b-8683-41a4-a884-508660c65f34"
      },
      "execution_count": 16,
      "outputs": [
        {
          "output_type": "stream",
          "name": "stdout",
          "text": [
            "\n",
            "================================================================================\n",
            "STEP 2.2.4: IMPUTATION IMPLEMENTATION\n",
            "================================================================================\n"
          ]
        }
      ]
    },
    {
      "cell_type": "code",
      "source": [
        "class MissingValuesHandler:\n",
        "    \"\"\"Section 2.2.4: Implement missing values treatment\"\"\"\n",
        "\n",
        "    def __init__(self):\n",
        "        self.imputers = {}\n",
        "        self.columns_dropped = []\n",
        "        self.treatment_log = []\n",
        "\n",
        "    def apply_treatment(self, df, strategy_plan):\n",
        "        \"\"\"Apply the planned missing values treatment\"\"\"\n",
        "\n",
        "        print(\"\\n\" + \"=\"*80)\n",
        "        print(\"SECTION 2.2.4: IMPUTATION IMPLEMENTATION\")\n",
        "        print(\"=\"*80)\n",
        "\n",
        "        print(\"Implementing missing values treatment strategy...\")\n",
        "\n",
        "        df_treated = df.copy()\n",
        "\n",
        "        # Step 1: Drop high-missing columns\n",
        "        if strategy_plan['drop_columns']:\n",
        "            print(f\"\\n1. DROPPING HIGH-MISSING COLUMNS:\")\n",
        "            for col in strategy_plan['drop_columns']:\n",
        "                missing_pct = (df[col].isnull().sum() / len(df)) * 100\n",
        "                print(f\"   • Dropping {col}: {missing_pct:.1f}% missing\")\n",
        "                df_treated = df_treated.drop(columns=[col])\n",
        "                self.columns_dropped.append(col)\n",
        "                self.treatment_log.append(f\"Dropped {col} ({missing_pct:.1f}% missing)\")\n",
        "\n",
        "        # Step 2: KNN imputation for medium missing\n",
        "        if strategy_plan['knn_impute']:\n",
        "            print(f\"\\n2. KNN IMPUTATION FOR MEDIUM-MISSING FEATURES:\")\n",
        "            for col in strategy_plan['knn_impute']:\n",
        "                if col in df_treated.columns:  # Check if not dropped\n",
        "                    missing_pct = (df_treated[col].isnull().sum() / len(df_treated)) * 100\n",
        "                    print(f\"   • KNN imputing {col}: {missing_pct:.1f}% missing\")\n",
        "\n",
        "                    imputer = KNNImputer(n_neighbors=5)\n",
        "                    df_treated[[col]] = imputer.fit_transform(df_treated[[col]])\n",
        "                    self.imputers[col] = imputer\n",
        "                    self.treatment_log.append(f\"KNN imputed {col} ({missing_pct:.1f}% missing)\")\n",
        "\n",
        "        # Step 3: Mean imputation for low missing\n",
        "        if strategy_plan['mean_impute']:\n",
        "            print(f\"\\n3. MEAN IMPUTATION FOR LOW-MISSING FEATURES:\")\n",
        "            for col in strategy_plan['mean_impute']:\n",
        "                if col in df_treated.columns:  # Check if not dropped\n",
        "                    missing_pct = (df_treated[col].isnull().sum() / len(df_treated)) * 100\n",
        "                    print(f\"   • Mean imputing {col}: {missing_pct:.1f}% missing\")\n",
        "\n",
        "                    imputer = SimpleImputer(strategy='mean')\n",
        "                    df_treated[[col]] = imputer.fit_transform(df_treated[[col]])\n",
        "                    self.imputers[col] = imputer\n",
        "                    self.treatment_log.append(f\"Mean imputed {col} ({missing_pct:.1f}% missing)\")\n",
        "\n",
        "        # Final verification\n",
        "        remaining_missing = df_treated.isnull().sum().sum()\n",
        "\n",
        "        print(f\"\\n✅ IMPUTATION COMPLETED:\")\n",
        "        print(f\"   • Remaining missing values: {remaining_missing}\")\n",
        "        print(f\"   • Original features: {df.shape[1]}\")\n",
        "        print(f\"   • Features after treatment: {df_treated.shape[1]}\")\n",
        "        print(f\"   • Features dropped: {len(self.columns_dropped)}\")\n",
        "        print(f\"   • Features imputed: {len(self.imputers)}\")\n",
        "\n",
        "        if remaining_missing > 0:\n",
        "            print(\"   ⚠️  Warning: Some missing values remain!\")\n",
        "        else:\n",
        "            print(\"   🎉 All missing values successfully treated!\")\n",
        "\n",
        "        return df_treated\n"
      ],
      "metadata": {
        "id": "5N4qG8wJ18da"
      },
      "execution_count": 17,
      "outputs": []
    },
    {
      "cell_type": "code",
      "source": [],
      "metadata": {
        "id": "GfQWYyFOnRFv"
      },
      "execution_count": null,
      "outputs": []
    },
    {
      "cell_type": "code",
      "source": [
        "# 2. Create an instance of the class:\n",
        "handler = MissingValuesHandler()"
      ],
      "metadata": {
        "id": "TMLvrZg_nRAA"
      },
      "execution_count": 41,
      "outputs": []
    },
    {
      "cell_type": "code",
      "source": [
        "# 4. Call the apply_treatment method with your DataFrame and strategy:\n",
        "df_treated = handler.apply_treatment(df, strategy_plan)"
      ],
      "metadata": {
        "colab": {
          "base_uri": "https://localhost:8080/",
          "height": 156
        },
        "id": "AUXK0ydanQ6R",
        "outputId": "3a308673-3948-4072-90cf-9317bb94a9bd"
      },
      "execution_count": 42,
      "outputs": [
        {
          "output_type": "error",
          "ename": "NameError",
          "evalue": "name 'strategy_plan' is not defined",
          "traceback": [
            "\u001b[0;31m---------------------------------------------------------------------------\u001b[0m",
            "\u001b[0;31mNameError\u001b[0m                                 Traceback (most recent call last)",
            "\u001b[0;32m/tmp/ipython-input-3019109924.py\u001b[0m in \u001b[0;36m<cell line: 0>\u001b[0;34m()\u001b[0m\n\u001b[1;32m      1\u001b[0m \u001b[0;31m# 4. Call the apply_treatment method with your DataFrame and strategy:\u001b[0m\u001b[0;34m\u001b[0m\u001b[0;34m\u001b[0m\u001b[0m\n\u001b[0;32m----> 2\u001b[0;31m \u001b[0mdf_treated\u001b[0m \u001b[0;34m=\u001b[0m \u001b[0mhandler\u001b[0m\u001b[0;34m.\u001b[0m\u001b[0mapply_treatment\u001b[0m\u001b[0;34m(\u001b[0m\u001b[0mdf\u001b[0m\u001b[0;34m,\u001b[0m \u001b[0mstrategy_plan\u001b[0m\u001b[0;34m)\u001b[0m\u001b[0;34m\u001b[0m\u001b[0;34m\u001b[0m\u001b[0m\n\u001b[0m",
            "\u001b[0;31mNameError\u001b[0m: name 'strategy_plan' is not defined"
          ]
        }
      ]
    },
    {
      "cell_type": "code",
      "source": [],
      "metadata": {
        "id": "R_HMNdc7nQwo"
      },
      "execution_count": null,
      "outputs": []
    },
    {
      "cell_type": "code",
      "source": [],
      "metadata": {
        "id": "ZPT-RJV_qEh-"
      },
      "execution_count": null,
      "outputs": []
    },
    {
      "cell_type": "code",
      "source": [
        "#######pppppp\n",
        "\n",
        "class MissingValuesHandler:\n",
        "    \"\"\"Section 2.2.4: Implement missing values treatment\"\"\"\n",
        "\n",
        "    def __init__(self):\n",
        "        self.imputers = {}\n",
        "        self.columns_dropped = []\n",
        "        self.treatment_log = []\n",
        "\n",
        "    def apply_treatment(self, df, strategy_plan):\n",
        "        \"\"\"Apply the planned missing values treatment\"\"\"\n",
        "\n",
        "        print(\"\\n\" + \"=\"*80)\n",
        "        print(\"STEP 2.2.4: IMPUTATION IMPLEMENTATION\")\n",
        "        print(\"=\"*80)\n",
        "\n",
        "        print(\"Implementing missing values treatment strategy...\")\n",
        "\n",
        "        df_treated = df.copy()\n",
        "\n",
        "        # Step 1: Drop high-missing columns\n",
        "        if strategy_plan['drop_columns']:\n",
        "            print(f\"\\n1. DROPPING HIGH-MISSING COLUMNS:\")\n",
        "            for col in strategy_plan['drop_columns']:\n",
        "                missing_pct = (df[col].isnull().sum() / len(df)) * 100\n",
        "                print(f\"   • Dropping {col}: {missing_pct:.1f}% missing\")\n",
        "                df_treated = df_treated.drop(columns=[col])\n",
        "                self.columns_dropped.append(col)\n",
        "                self.treatment_log.append(f\"Dropped {col} ({missing_pct:.1f}% missing)\")\n",
        "\n",
        "        # Step 2: KNN imputation for medium missing\n",
        "        if strategy_plan['knn_impute']:\n",
        "            print(f\"\\n2. KNN IMPUTATION FOR MEDIUM-MISSING FEATURES:\")\n",
        "            for col in strategy_plan['knn_impute']:\n",
        "                if col in df_treated.columns:  # Check if not dropped\n",
        "                    missing_pct = (df_treated[col].isnull().sum() / len(df_treated)) * 100\n",
        "                    print(f\"   • KNN imputing {col}: {missing_pct:.1f}% missing\")\n",
        "\n",
        "                    imputer = KNNImputer(n_neighbors=5)\n",
        "                    df_treated[[col]] = imputer.fit_transform(df_treated[[col]])\n",
        "                    self.imputers[col] = imputer\n",
        "                    self.treatment_log.append(f\"KNN imputed {col} ({missing_pct:.1f}% missing)\")\n",
        "\n",
        "        # Step 3: Mean imputation for low missing\n",
        "        if strategy_plan['mean_impute']:\n",
        "            print(f\"\\n3. MEAN IMPUTATION FOR LOW-MISSING FEATURES:\")\n",
        "            for col in strategy_plan['mean_impute']:\n",
        "                if col in df_treated.columns:  # Check if not dropped\n",
        "                    missing_pct = (df_treated[col].isnull().sum() / len(df_treated)) * 100\n",
        "                    print(f\"   • Mean imputing {col}: {missing_pct:.1f}% missing\")\n",
        "\n",
        "                    imputer = SimpleImputer(strategy='mean')\n",
        "                    df_treated[[col]] = imputer.fit_transform(df_treated[[col]])\n",
        "                    self.imputers[col] = imputer\n",
        "                    self.treatment_log.append(f\"Mean imputed {col} ({missing_pct:.1f}% missing)\")\n",
        "\n",
        "        # Final verification\n",
        "        remaining_missing = df_treated.isnull().sum().sum()\n",
        "\n",
        "        print(f\"\\n✅ IMPUTATION COMPLETED:\")\n",
        "        print(f\"   • Remaining missing values: {remaining_missing}\")\n",
        "        print(f\"   • Original features: {df.shape[1]}\")\n",
        "        print(f\"   • Features after treatment: {df_treated.shape[1]}\")\n",
        "        print(f\"   • Features dropped: {len(self.columns_dropped)}\")\n",
        "        print(f\"   • Features imputed: {len(self.imputers)}\")\n",
        "\n",
        "        if remaining_missing > 0:\n",
        "            print(\"   ⚠️  Warning: Some missing values remain!\")\n",
        "        else:\n",
        "            print(\"   🎉 All missing values successfully treated!\")\n",
        "\n",
        "        return df_treated"
      ],
      "metadata": {
        "id": "haHW4dFbqEO9"
      },
      "execution_count": 18,
      "outputs": []
    },
    {
      "cell_type": "code",
      "source": [],
      "metadata": {
        "id": "VD-OgYqLqug8"
      },
      "execution_count": null,
      "outputs": []
    },
    {
      "cell_type": "code",
      "source": [
        "####üüüüüppppp\n",
        "\n",
        "strategy_plan = {\n",
        "    'drop_columns': [],  # No columns with >50% missing based on diagnosis's result\n",
        "    'knn_impute': [],    # No medium missing columns diagnosed\n",
        "    'mean_impute': [\n",
        "        'radius_ratio',\n",
        "        'skewness_about',\n",
        "        'circularity',\n",
        "        'scaled_radius_of_gyration.1',\n",
        "        'distance_circularity',\n",
        "        'scaled_variance',\n",
        "        'pr.axis_rectangularity',\n",
        "        'scaled_variance.1',\n",
        "        'scaled_radius_of_gyration',\n",
        "        'pr.axis_aspect_ratio',\n",
        "        'skewness_about.1',\n",
        "        'scatter_ratio',\n",
        "        'skewness_about.2',\n",
        "        'elongatedness'\n",
        "    ]\n",
        "}"
      ],
      "metadata": {
        "id": "OTPbEFNQquQj"
      },
      "execution_count": 19,
      "outputs": []
    },
    {
      "cell_type": "code",
      "source": [],
      "metadata": {
        "id": "nuuYFxvMquGp"
      },
      "execution_count": null,
      "outputs": []
    },
    {
      "cell_type": "code",
      "source": [],
      "metadata": {
        "id": "JpMuanJjqt7e"
      },
      "execution_count": null,
      "outputs": []
    },
    {
      "cell_type": "code",
      "source": [
        "######pppppppppüüüüüü\n",
        "\n",
        "# Instantiate handler\n",
        "handler = MissingValuesHandler()\n",
        "\n",
        "# Apply treatment with the strategy plan based on the low missing columns\n",
        "df_treated = handler.apply_treatment(df, strategy_plan)"
      ],
      "metadata": {
        "colab": {
          "base_uri": "https://localhost:8080/"
        },
        "id": "WbK2aJ39qEMm",
        "outputId": "3d14136a-5006-4abd-d204-546dbffddafc"
      },
      "execution_count": 20,
      "outputs": [
        {
          "output_type": "stream",
          "name": "stdout",
          "text": [
            "\n",
            "================================================================================\n",
            "STEP 2.2.4: IMPUTATION IMPLEMENTATION\n",
            "================================================================================\n",
            "Implementing missing values treatment strategy...\n",
            "\n",
            "3. MEAN IMPUTATION FOR LOW-MISSING FEATURES:\n",
            "   • Mean imputing radius_ratio: 0.7% missing\n",
            "   • Mean imputing skewness_about: 0.7% missing\n",
            "   • Mean imputing circularity: 0.6% missing\n",
            "   • Mean imputing scaled_radius_of_gyration.1: 0.5% missing\n",
            "   • Mean imputing distance_circularity: 0.5% missing\n",
            "   • Mean imputing scaled_variance: 0.4% missing\n",
            "   • Mean imputing pr.axis_rectangularity: 0.4% missing\n",
            "   • Mean imputing scaled_variance.1: 0.2% missing\n",
            "   • Mean imputing scaled_radius_of_gyration: 0.2% missing\n",
            "   • Mean imputing pr.axis_aspect_ratio: 0.2% missing\n",
            "   • Mean imputing skewness_about.1: 0.1% missing\n",
            "   • Mean imputing scatter_ratio: 0.1% missing\n",
            "   • Mean imputing skewness_about.2: 0.1% missing\n",
            "   • Mean imputing elongatedness: 0.1% missing\n",
            "\n",
            "✅ IMPUTATION COMPLETED:\n",
            "   • Remaining missing values: 0\n",
            "   • Original features: 19\n",
            "   • Features after treatment: 19\n",
            "   • Features dropped: 0\n",
            "   • Features imputed: 14\n",
            "   🎉 All missing values successfully treated!\n"
          ]
        }
      ]
    },
    {
      "cell_type": "code",
      "source": [],
      "metadata": {
        "id": "gLTGgikIqEKW"
      },
      "execution_count": null,
      "outputs": []
    },
    {
      "cell_type": "code",
      "source": [],
      "metadata": {
        "id": "ga59q_TTnQru"
      },
      "execution_count": null,
      "outputs": []
    },
    {
      "cell_type": "code",
      "source": [
        "# Create handler instance\n",
        "handler = MissingValuesHandler()"
      ],
      "metadata": {
        "id": "DdB1EWs19QPe"
      },
      "execution_count": 40,
      "outputs": []
    },
    {
      "cell_type": "code",
      "source": [],
      "metadata": {
        "id": "wwchqCpPZUIf"
      },
      "execution_count": null,
      "outputs": []
    },
    {
      "cell_type": "code",
      "source": [
        "print(df.columns.tolist())"
      ],
      "metadata": {
        "id": "wBp0rhGpTl-1"
      },
      "execution_count": null,
      "outputs": []
    },
    {
      "cell_type": "code",
      "source": [],
      "metadata": {
        "id": "SfhyGL3gUuJb"
      },
      "execution_count": null,
      "outputs": []
    },
    {
      "cell_type": "code",
      "source": [
        "handler = MissingValuesHandler()\n",
        "df_treated = handler.apply_treatment(df, strategy_plan)"
      ],
      "metadata": {
        "id": "LFGyY4QeUuHn"
      },
      "execution_count": null,
      "outputs": []
    },
    {
      "cell_type": "code",
      "source": [],
      "metadata": {
        "id": "bNZXFUYuUuFg"
      },
      "execution_count": null,
      "outputs": []
    },
    {
      "cell_type": "code",
      "source": [],
      "metadata": {
        "id": "dtvwBhEEUuDc"
      },
      "execution_count": null,
      "outputs": []
    },
    {
      "cell_type": "code",
      "source": [],
      "metadata": {
        "id": "cJ-0TiswRqhE"
      },
      "execution_count": null,
      "outputs": []
    },
    {
      "cell_type": "code",
      "source": [
        "# Instantiate and apply treatment\n",
        "handler = MissingValuesHandler()\n",
        "df_treated = handler.apply_treatment(df, strategy_plan)"
      ],
      "metadata": {
        "id": "Iwkb5nFlSe6L"
      },
      "execution_count": null,
      "outputs": []
    },
    {
      "cell_type": "code",
      "source": [],
      "metadata": {
        "id": "5ppfewx0SetM"
      },
      "execution_count": null,
      "outputs": []
    },
    {
      "cell_type": "code",
      "source": [],
      "metadata": {
        "id": "KTXJE14wRqWc"
      },
      "execution_count": null,
      "outputs": []
    },
    {
      "cell_type": "code",
      "source": [
        "print(\"\\n\" + \"=\"*80)\n",
        "print(\"STEP 2.2.5: FEATURE STANDARDIZATION\")\n",
        "print(\"=\"*80)"
      ],
      "metadata": {
        "colab": {
          "base_uri": "https://localhost:8080/"
        },
        "id": "vBvkTU3_EZqh",
        "outputId": "8d34990e-2a7e-4b25-d63b-aed1b015f6f2"
      },
      "execution_count": 21,
      "outputs": [
        {
          "output_type": "stream",
          "name": "stdout",
          "text": [
            "\n",
            "================================================================================\n",
            "STEP 2.2.5: FEATURE STANDARDIZATION\n",
            "================================================================================\n"
          ]
        }
      ]
    },
    {
      "cell_type": "code",
      "source": [
        "def step_2_2_5_feature_standardization(df_clean):\n",
        "    \"\"\"Section 2.2.5: Standardize features after missing values treatment\"\"\"\n",
        "\n",
        "    print(\"\\n\" + \"=\"*80)\n",
        "    print(\"SECTION 2.2.5: FEATURE STANDARDIZATION\")\n",
        "    print(\"=\"*80)\n",
        "\n",
        "    print(\"Standardizing features after missing values treatment...\")\n",
        "\n",
        "    # Separate features and target\n",
        "    if 'class' in df_clean.columns:\n",
        "        X = df_clean.drop('class', axis=1)\n",
        "        y = df_clean['class']\n",
        "    else:\n",
        "        X = df_clean\n",
        "        y = None\n",
        "\n",
        "    print(f\"\\n📊 PRE-STANDARDIZATION INFO:\")\n",
        "    print(f\"   • Features to standardize: {X.shape[1]}\")\n",
        "    print(f\"   • Sample size: {X.shape[0]}\")\n",
        "    print(f\"   • Feature means (sample): {X.mean().head().round(2).to_dict()}\")\n",
        "    print(f\"   • Feature stds (sample): {X.std().head().round(2).to_dict()}\")\n",
        "\n",
        "    # Apply standardization\n",
        "    scaler = StandardScaler()\n",
        "    X_scaled = pd.DataFrame(\n",
        "        scaler.fit_transform(X),\n",
        "        columns=X.columns,\n",
        "        index=X.index\n",
        "    )\n",
        "\n",
        "    print(f\"\\n✅ STANDARDIZATION COMPLETED:\")\n",
        "    print(f\"   • Scaled feature means (sample): {X_scaled.mean().head().round(6).to_dict()}\")\n",
        "    print(f\"   • Scaled feature stds (sample): {X_scaled.std().head().round(6).to_dict()}\")\n",
        "    print(f\"   • Verification: All means ≈ 0, All stds ≈ 1 ✓\")\n",
        "\n",
        "    return X_scaled, y, scaler"
      ],
      "metadata": {
        "id": "KZ4h2GXREqbM"
      },
      "execution_count": 22,
      "outputs": []
    },
    {
      "cell_type": "code",
      "source": [],
      "metadata": {
        "id": "Yzp869vgukvF"
      },
      "execution_count": null,
      "outputs": []
    },
    {
      "cell_type": "code",
      "source": [
        "# Display standardized features after missing values treatment\n",
        "df_clean=df_treated\n",
        "X_scaled, y, scaler = step_2_2_5_feature_standardization(df_clean)"
      ],
      "metadata": {
        "colab": {
          "base_uri": "https://localhost:8080/"
        },
        "id": "QwefMrh8u7gn",
        "outputId": "18c819c7-cbcd-4028-a8f0-46e1a5333623"
      },
      "execution_count": 24,
      "outputs": [
        {
          "output_type": "stream",
          "name": "stdout",
          "text": [
            "\n",
            "================================================================================\n",
            "SECTION 2.2.5: FEATURE STANDARDIZATION\n",
            "================================================================================\n",
            "Standardizing features after missing values treatment...\n",
            "\n",
            "📊 PRE-STANDARDIZATION INFO:\n",
            "   • Features to standardize: 18\n",
            "   • Sample size: 846\n",
            "   • Feature means (sample): {'compactness': 93.68, 'circularity': 44.83, 'distance_circularity': 82.11, 'radius_ratio': 168.89, 'pr.axis_aspect_ratio': 61.68}\n",
            "   • Feature stds (sample): {'compactness': 8.23, 'circularity': 6.13, 'distance_circularity': 15.74, 'radius_ratio': 33.4, 'pr.axis_aspect_ratio': 7.88}\n",
            "\n",
            "✅ STANDARDIZATION COMPLETED:\n",
            "   • Scaled feature means (sample): {'compactness': 0.0, 'circularity': -0.0, 'distance_circularity': 0.0, 'radius_ratio': -0.0, 'pr.axis_aspect_ratio': -0.0}\n",
            "   • Scaled feature stds (sample): {'compactness': 1.000592, 'circularity': 1.000592, 'distance_circularity': 1.000592, 'radius_ratio': 1.000592, 'pr.axis_aspect_ratio': 1.000592}\n",
            "   • Verification: All means ≈ 0, All stds ≈ 1 ✓\n"
          ]
        }
      ]
    },
    {
      "cell_type": "code",
      "source": [],
      "metadata": {
        "id": "FBATtKz9u7QW"
      },
      "execution_count": null,
      "outputs": []
    },
    {
      "cell_type": "code",
      "source": [],
      "metadata": {
        "id": "PMKUw7zau7PA"
      },
      "execution_count": null,
      "outputs": []
    },
    {
      "cell_type": "code",
      "source": [],
      "metadata": {
        "id": "7_qI7Dixu7Lf"
      },
      "execution_count": null,
      "outputs": []
    },
    {
      "cell_type": "code",
      "source": [
        "print(\"\\n\" + \"=\"*80)\n",
        "print(\"STEP 2.3: TRAIN-TEST SPLIT STRATEGY\")\n",
        "print(\"=\"*80)"
      ],
      "metadata": {
        "colab": {
          "base_uri": "https://localhost:8080/"
        },
        "id": "AJvxzhbuEqXU",
        "outputId": "07e6b535-46e7-4c2c-97d7-5d8f60e8000f"
      },
      "execution_count": 25,
      "outputs": [
        {
          "output_type": "stream",
          "name": "stdout",
          "text": [
            "\n",
            "================================================================================\n",
            "STEP 2.3: TRAIN-TEST SPLIT STRATEGY\n",
            "================================================================================\n"
          ]
        }
      ]
    },
    {
      "cell_type": "code",
      "source": [
        "def step_2_3_train_test_split(X_scaled, y):\n",
        "    \"\"\"Section 2.3: Implement train-test split strategy\"\"\"\n",
        "\n",
        "    print(\"\\n\" + \"=\"*80)\n",
        "    print(\"SECTION 2.3: TRAIN-TEST SPLIT STRATEGY\")\n",
        "    print(\"=\"*80)\n",
        "\n",
        "    print(\"Implementing train-test split with stratification...\")\n",
        "\n",
        "    # Encode target if needed\n",
        "    if y is not None and y.dtype == 'object':\n",
        "        from sklearn.preprocessing import LabelEncoder\n",
        "        label_encoder = LabelEncoder()\n",
        "        y_encoded = label_encoder.fit_transform(y)\n",
        "        print(f\"   • Target classes: {label_encoder.classes_}\")\n",
        "    else:\n",
        "        y_encoded = y\n",
        "        label_encoder = None\n",
        "\n",
        "    # Perform stratified split\n",
        "    if y_encoded is not None:\n",
        "        X_train, X_test, y_train, y_test = train_test_split(\n",
        "            X_scaled, y_encoded,\n",
        "            test_size=0.3,\n",
        "            random_state=42,\n",
        "            stratify=y_encoded\n",
        "        )\n",
        "    else:\n",
        "        X_train, X_test = train_test_split(\n",
        "            X_scaled,\n",
        "            test_size=0.3,\n",
        "            random_state=42\n",
        "        )\n",
        "        y_train, y_test = None, None\n",
        "\n",
        "    print(f\"\\n✅ SPLIT COMPLETED:\")\n",
        "    print(f\"   • Training set: {X_train.shape[0]} samples ({X_train.shape[0]/len(X_scaled)*100:.1f}%)\")\n",
        "    print(f\"   • Test set: {X_test.shape[0]} samples ({X_test.shape[0]/len(X_scaled)*100:.1f}%)\")\n",
        "    print(f\"   • Features: {X_train.shape[1]}\")\n",
        "\n",
        "    if y_train is not None:\n",
        "        print(f\"   • Training class distribution: {np.bincount(y_train)}\")\n",
        "        print(f\"   • Test class distribution: {np.bincount(y_test)}\")\n",
        "\n",
        "    return X_train, X_test, y_train, y_test, label_encoder"
      ],
      "metadata": {
        "id": "8FGii6xNEZoK"
      },
      "execution_count": 26,
      "outputs": []
    },
    {
      "cell_type": "code",
      "source": [],
      "metadata": {
        "id": "v0YHDwEfEZmP"
      },
      "execution_count": null,
      "outputs": []
    },
    {
      "cell_type": "code",
      "source": [
        "# Display train-test split\n",
        "X_train, X_test, y_train, y_test, label_encoder = step_2_3_train_test_split(X_scaled, y)"
      ],
      "metadata": {
        "colab": {
          "base_uri": "https://localhost:8080/"
        },
        "id": "wXbwx4yTwXhZ",
        "outputId": "ca61751a-a69a-4319-db2d-bed2571fffef"
      },
      "execution_count": 28,
      "outputs": [
        {
          "output_type": "stream",
          "name": "stdout",
          "text": [
            "\n",
            "================================================================================\n",
            "SECTION 2.3: TRAIN-TEST SPLIT STRATEGY\n",
            "================================================================================\n",
            "Implementing train-test split with stratification...\n",
            "   • Target classes: ['bus' 'car' 'van']\n",
            "\n",
            "✅ SPLIT COMPLETED:\n",
            "   • Training set: 592 samples (70.0%)\n",
            "   • Test set: 254 samples (30.0%)\n",
            "   • Features: 18\n",
            "   • Training class distribution: [153 300 139]\n",
            "   • Test class distribution: [ 65 129  60]\n"
          ]
        }
      ]
    },
    {
      "cell_type": "code",
      "source": [],
      "metadata": {
        "id": "QIh8wdHtwXN2"
      },
      "execution_count": null,
      "outputs": []
    },
    {
      "cell_type": "code",
      "source": [],
      "metadata": {
        "id": "_TvTQ5i9wXHn"
      },
      "execution_count": null,
      "outputs": []
    },
    {
      "cell_type": "code",
      "source": [
        "print(\"=\"*100)\n",
        "print(\"COMPLETE PREPROCESSING PIPELINE - SECTIONS 2.2.1 TO 2.3\")\n",
        "print(\"=\"*100)"
      ],
      "metadata": {
        "colab": {
          "base_uri": "https://localhost:8080/"
        },
        "id": "sasC-j_6FMH9",
        "outputId": "7f65ce85-7580-46c8-fdcd-20a264411679"
      },
      "execution_count": 29,
      "outputs": [
        {
          "output_type": "stream",
          "name": "stdout",
          "text": [
            "====================================================================================================\n",
            "COMPLETE PREPROCESSING PIPELINE - SECTIONS 2.2.1 TO 2.3\n",
            "====================================================================================================\n"
          ]
        }
      ]
    },
    {
      "cell_type": "code",
      "source": [
        "def execute_complete_preprocessing_pipeline(df):\n",
        "    \"\"\"Execute all preprocessing steps in proper sequence\"\"\"\n",
        "\n",
        "    print(\"=\"*100)\n",
        "    print(\"COMPLETE PREPROCESSING PIPELINE - SECTIONS 2.2.1 TO 2.3\")\n",
        "    print(\"=\"*100)\n",
        "\n",
        "    # 2.2.1 Missing Values Analysis\n",
        "    missing_df = step_2_2_1_missing_values_analysis(df)\n",
        "\n",
        "    # 2.2.2 Missing Values Visualization\n",
        "    viz_result = step_2_2_2_missing_values_visualization(df)\n",
        "\n",
        "    # 2.2.3 Treatment Strategy\n",
        "    strategy_plan, overall_strategy = step_2_2_3_treatment_strategy(missing_df, df)\n",
        "\n",
        "    # 2.2.4 Imputation Implementation\n",
        "    if overall_strategy != \"no_treatment\":\n",
        "        handler = MissingValuesHandler()\n",
        "        df_treated = handler.apply_treatment(df, strategy_plan)\n",
        "    else:\n",
        "        df_treated = df.copy()\n",
        "        handler = None\n",
        "\n",
        "    # 2.2.5 Feature Standardization\n",
        "    X_scaled, y, scaler = step_2_2_5_feature_standardization(df_treated)\n",
        "\n",
        "    # 2.3 Train-Test Split\n",
        "    X_train, X_test, y_train, y_test, label_encoder = step_2_3_train_test_split(X_scaled, y)\n",
        "\n",
        "    print(f\"\\n\" + \"=\"*100)\n",
        "    print(\"PREPROCESSING PIPELINE COMPLETED ✅\")\n",
        "    print(\"=\"*100)\n",
        "    print(\"Ready to proceed to Section 3: Dimensionality Reduction Analysis\")\n",
        "\n",
        "    return X_train, X_test, y_train, y_test, handler, scaler, label_encoder"
      ],
      "metadata": {
        "id": "FsfJqXDFFMBs"
      },
      "execution_count": 74,
      "outputs": []
    },
    {
      "cell_type": "code",
      "source": [],
      "metadata": {
        "id": "b00qNGemFL_H"
      },
      "execution_count": null,
      "outputs": []
    },
    {
      "cell_type": "code",
      "source": [
        "###1\n",
        "\n",
        "# 2.2.4 - Imputation Implementation\n",
        "handler = MissingValuesHandler()\n",
        "df_treated = handler.apply_treatment(df, strategy_plan)\n"
      ],
      "metadata": {
        "colab": {
          "base_uri": "https://localhost:8080/"
        },
        "id": "a48DMpvTFL7d",
        "outputId": "951ca9f4-16bd-4433-f9c4-b02149703e96"
      },
      "execution_count": 75,
      "outputs": [
        {
          "output_type": "stream",
          "name": "stdout",
          "text": [
            "\n",
            "================================================================================\n",
            "STEP 2.2.4: IMPUTATION IMPLEMENTATION\n",
            "================================================================================\n",
            "Implementing missing values treatment strategy...\n",
            "\n",
            "3. MEAN IMPUTATION FOR LOW-MISSING FEATURES:\n",
            "   • Mean imputing radius_ratio: 0.7% missing\n",
            "   • Mean imputing skewness_about: 0.7% missing\n",
            "   • Mean imputing circularity: 0.6% missing\n",
            "   • Mean imputing scaled_radius_of_gyration.1: 0.5% missing\n",
            "   • Mean imputing distance_circularity: 0.5% missing\n",
            "   • Mean imputing scaled_variance: 0.4% missing\n",
            "   • Mean imputing pr.axis_rectangularity: 0.4% missing\n",
            "   • Mean imputing scaled_variance.1: 0.2% missing\n",
            "   • Mean imputing scaled_radius_of_gyration: 0.2% missing\n",
            "   • Mean imputing pr.axis_aspect_ratio: 0.2% missing\n",
            "   • Mean imputing skewness_about.1: 0.1% missing\n",
            "   • Mean imputing scatter_ratio: 0.1% missing\n",
            "   • Mean imputing skewness_about.2: 0.1% missing\n",
            "   • Mean imputing elongatedness: 0.1% missing\n",
            "\n",
            "✅ IMPUTATION COMPLETED:\n",
            "   • Remaining missing values: 0\n",
            "   • Original features: 19\n",
            "   • Features after treatment: 19\n",
            "   • Features dropped: 0\n",
            "   • Features imputed: 14\n",
            "   🎉 All missing values successfully treated!\n"
          ]
        }
      ]
    },
    {
      "cell_type": "code",
      "source": [],
      "metadata": {
        "id": "Kmn8EPuMFZtv"
      },
      "execution_count": null,
      "outputs": []
    },
    {
      "cell_type": "code",
      "source": [
        "####2\n",
        "# 2.2.5 - Feature Standardization\n",
        "X_scaled, y, scaler = step_2_2_5_feature_standardization(df_treated)"
      ],
      "metadata": {
        "colab": {
          "base_uri": "https://localhost:8080/"
        },
        "id": "otVmLfZbFZqW",
        "outputId": "a6eb2398-76ab-43b2-acd7-c3741e2b062b"
      },
      "execution_count": 76,
      "outputs": [
        {
          "output_type": "stream",
          "name": "stdout",
          "text": [
            "\n",
            "================================================================================\n",
            "SECTION 2.2.5: FEATURE STANDARDIZATION\n",
            "================================================================================\n",
            "Standardizing features after missing values treatment...\n",
            "\n",
            "📊 PRE-STANDARDIZATION INFO:\n",
            "   • Features to standardize: 18\n",
            "   • Sample size: 846\n",
            "   • Feature means (sample): {'compactness': 93.68, 'circularity': 44.83, 'distance_circularity': 82.11, 'radius_ratio': 168.89, 'pr.axis_aspect_ratio': 61.68}\n",
            "   • Feature stds (sample): {'compactness': 8.23, 'circularity': 6.13, 'distance_circularity': 15.74, 'radius_ratio': 33.4, 'pr.axis_aspect_ratio': 7.88}\n",
            "\n",
            "✅ STANDARDIZATION COMPLETED:\n",
            "   • Scaled feature means (sample): {'compactness': 0.0, 'circularity': -0.0, 'distance_circularity': 0.0, 'radius_ratio': -0.0, 'pr.axis_aspect_ratio': -0.0}\n",
            "   • Scaled feature stds (sample): {'compactness': 1.000592, 'circularity': 1.000592, 'distance_circularity': 1.000592, 'radius_ratio': 1.000592, 'pr.axis_aspect_ratio': 1.000592}\n",
            "   • Verification: All means ≈ 0, All stds ≈ 1 ✓\n"
          ]
        }
      ]
    },
    {
      "cell_type": "code",
      "source": [],
      "metadata": {
        "id": "rY-nytB3FZoR"
      },
      "execution_count": null,
      "outputs": []
    },
    {
      "cell_type": "code",
      "source": [
        "### 3\n",
        "# 2.3 - Train-Test Split\n",
        "X_train, X_test, y_train, y_test, label_encoder = step_2_3_train_test_split(X_scaled, y)"
      ],
      "metadata": {
        "colab": {
          "base_uri": "https://localhost:8080/"
        },
        "id": "PhTEVGnsIEGk",
        "outputId": "b925d9f4-1fc9-43bc-e47b-a03b0c33fba4"
      },
      "execution_count": 77,
      "outputs": [
        {
          "output_type": "stream",
          "name": "stdout",
          "text": [
            "\n",
            "================================================================================\n",
            "SECTION 2.3: TRAIN-TEST SPLIT STRATEGY\n",
            "================================================================================\n",
            "Implementing train-test split with stratification...\n",
            "   • Target classes: ['bus' 'car' 'van']\n",
            "\n",
            "✅ SPLIT COMPLETED:\n",
            "   • Training set: 592 samples (70.0%)\n",
            "   • Test set: 254 samples (30.0%)\n",
            "   • Features: 18\n",
            "   • Training class distribution: [153 300 139]\n",
            "   • Test class distribution: [ 65 129  60]\n"
          ]
        }
      ]
    },
    {
      "cell_type": "code",
      "source": [],
      "metadata": {
        "id": "yvLi6SLjIEEf"
      },
      "execution_count": null,
      "outputs": []
    },
    {
      "cell_type": "code",
      "source": [
        "# 2.3 - Train-Test Split\n",
        "X_train, X_test, y_train, y_test, label_encoder = step_2_3_train_test_split(X_scaled, y)"
      ],
      "metadata": {
        "id": "fFhEIKoHIECr",
        "colab": {
          "base_uri": "https://localhost:8080/"
        },
        "outputId": "b9ed29f7-37ad-4836-cf48-83ae8ac173d7"
      },
      "execution_count": 78,
      "outputs": [
        {
          "output_type": "stream",
          "name": "stdout",
          "text": [
            "\n",
            "================================================================================\n",
            "SECTION 2.3: TRAIN-TEST SPLIT STRATEGY\n",
            "================================================================================\n",
            "Implementing train-test split with stratification...\n",
            "   • Target classes: ['bus' 'car' 'van']\n",
            "\n",
            "✅ SPLIT COMPLETED:\n",
            "   • Training set: 592 samples (70.0%)\n",
            "   • Test set: 254 samples (30.0%)\n",
            "   • Features: 18\n",
            "   • Training class distribution: [153 300 139]\n",
            "   • Test class distribution: [ 65 129  60]\n"
          ]
        }
      ]
    },
    {
      "cell_type": "code",
      "source": [],
      "metadata": {
        "id": "JTgXZ56CIEAm"
      },
      "execution_count": null,
      "outputs": []
    },
    {
      "cell_type": "code",
      "source": [],
      "metadata": {
        "id": "iYo2jXhtID-w"
      },
      "execution_count": null,
      "outputs": []
    },
    {
      "cell_type": "code",
      "source": [],
      "metadata": {
        "id": "yykLISO4ID88"
      },
      "execution_count": null,
      "outputs": []
    },
    {
      "cell_type": "code",
      "source": [],
      "metadata": {
        "id": "pXitelGRFZiT"
      },
      "execution_count": null,
      "outputs": []
    },
    {
      "cell_type": "code",
      "source": [],
      "metadata": {
        "id": "AvHrXmT3FZdo"
      },
      "execution_count": null,
      "outputs": []
    },
    {
      "cell_type": "code",
      "source": [
        "print(\"\\n\" + \"=\"*80)\n",
        "print(\"STEP 2: DATA PREPROCESSING - NORMALIZATION AND STANDARDIZATION\")\n",
        "print(\"=\"*80)"
      ],
      "metadata": {
        "id": "vTPlmd2zDMsD"
      },
      "execution_count": null,
      "outputs": []
    },
    {
      "cell_type": "code",
      "source": [
        "# Separate features and target\n",
        "X = df.drop('class', axis=1)  # Features (geometric measurements)\n",
        "y = df['class']               # Target (vehicle type)"
      ],
      "metadata": {
        "id": "obnwKyEkGA6t"
      },
      "execution_count": null,
      "outputs": []
    },
    {
      "cell_type": "code",
      "source": [
        "# Encode target labels for evaluation purposes\n",
        "label_encoder = LabelEncoder()\n",
        "y_encoded = label_encoder.fit_transform(y)\n",
        "\n",
        "print(f\"Feature matrix shape: {X.shape}\")\n",
        "print(f\"Target vector shape: {y.shape}\")\n",
        "print(f\"Unique classes: {label_encoder.classes_}\")"
      ],
      "metadata": {
        "id": "-LLd-_XJHP6u"
      },
      "execution_count": null,
      "outputs": []
    },
    {
      "cell_type": "code",
      "source": [
        "# Split the data into training and testing sets\n",
        "X_train, X_test, y_train, y_test = train_test_split(\n",
        "    X, y_encoded, test_size=0.3, random_state=42, stratify=y_encoded\n",
        ")\n",
        "\n",
        "print(f\"Training set size: {X_train.shape[0]} samples\")\n",
        "print(f\"Testing set size: {X_test.shape[0]} samples\")"
      ],
      "metadata": {
        "id": "IEWkyquaHksJ"
      },
      "execution_count": null,
      "outputs": []
    },
    {
      "cell_type": "code",
      "source": [
        "####### come back !!!!!!!!!\n",
        "# Standardize the features\n",
        "scaler = StandardScaler()\n",
        "X_train_scaled = scaler.fit_transform(X_train)\n",
        "X_test_scaled = scaler.transform(X_test)\n",
        "\n",
        "print(\"\\nFeature standardization completed!\")\n",
        "print(f\"Original feature means (sample): {X_train.mean().head()}\")\n",
        "print(f\"Scaled feature means (sample): {X_train_scaled.mean(axis=0)[:5]}\")\n",
        "print(f\"Scaled feature stds (sample): {X_train_scaled.std(axis=0)[:5]}\")"
      ],
      "metadata": {
        "id": "xqqrTscyH8P9"
      },
      "execution_count": null,
      "outputs": []
    },
    {
      "cell_type": "markdown",
      "source": [
        "# **3. Dimensionality Reduction Analysis**\n",
        "\n",
        "High-dimensional datasets often contain redundant information that can negatively impact clustering performance and computational efficiency.\n",
        "\n",
        "This section evaluates the effectiveness of Principal Component Analysis (PCA) for reducing the dimensionality of the 18-feature vehicle silhouette dataset while preserving the essential variance required for meaningful cluster formation.\n",
        "\n",
        "Through systematic analysis of explained variance ratios and component contributions, the optimal balance between dimensionality reduction and information preservation to enhance subsequent clustering analysis will be determined."
      ],
      "metadata": {
        "id": "IlcK8joWJDWy"
      }
    },
    {
      "cell_type": "code",
      "source": [
        " # work omn PCA section:\n",
        "3. Dimensionality Reduction Analysis\n",
        "3.1 Principal Component Analysis (PCA)\n",
        "3.2 Variance Explanation Analysis\n",
        "3.3 Optimal Component Selection\n",
        "3.4 Dimensionality Reduction Efficiency Assessment"
      ],
      "metadata": {
        "id": "iZXmsCKen6X9"
      },
      "execution_count": null,
      "outputs": []
    },
    {
      "cell_type": "markdown",
      "source": [
        "### 3.1 Principal Component Analysis (PCA)"
      ],
      "metadata": {
        "id": "W_DxN6KSLP4Z"
      }
    },
    {
      "cell_type": "code",
      "source": [
        "print(\"\\n\" + \"=\"*80)\n",
        "print(\"STEP 3: DIMENSIONALITY REDUCTION WITH PCA\")\n",
        "print(\"=\"*80)\n"
      ],
      "metadata": {
        "colab": {
          "base_uri": "https://localhost:8080/"
        },
        "id": "3oncBgphLcjk",
        "outputId": "81053f91-d06f-4c79-d1bc-b88f35194386"
      },
      "execution_count": 79,
      "outputs": [
        {
          "output_type": "stream",
          "name": "stdout",
          "text": [
            "\n",
            "================================================================================\n",
            "STEP 3: DIMENSIONALITY REDUCTION WITH PCA\n",
            "================================================================================\n"
          ]
        }
      ]
    },
    {
      "cell_type": "markdown",
      "source": [
        "3.1 Principal Component Analysis (PCA)\n",
        "3.2 Variance Explanation Analysis\n",
        "3.3 Optimal Component Selection\n",
        "3.4 Dimensionality Reduction Efficiency Assessment"
      ],
      "metadata": {
        "id": "-DzgMzezKgFk"
      }
    },
    {
      "cell_type": "code",
      "source": [],
      "metadata": {
        "id": "OcenwRjRu0R9"
      },
      "execution_count": null,
      "outputs": []
    },
    {
      "cell_type": "code",
      "source": [
        "def section_3_dimensionality_reduction_analysis(X_train, X_test):\n",
        "    \"\"\"\n",
        "    Complete dimensionality reduction analysis using PCA.\n",
        "    This section evaluates the effectiveness of Principal Component Analysis (PCA)\n",
        "    for reducing the dimensionality of the vehicle silhouette dataset while preserving\n",
        "    essential variance for meaningful cluster formation.\n",
        "    \"\"\"\n",
        "\n",
        "    print(\"=\"*80)\n",
        "    print(\"SECTION 3: DIMENSIONALITY REDUCTION ANALYSIS\")\n",
        "    print(\"=\"*80)\n",
        "\n",
        "    print(\"Evaluating dimensionality reduction effectiveness for vehicle classification...\")\n",
        "\n",
        "    # Store results for later analysis\n",
        "    pca_results = {}"
      ],
      "metadata": {
        "id": "qW0EdWitu0GA"
      },
      "execution_count": 34,
      "outputs": []
    },
    {
      "cell_type": "code",
      "source": [
        "\n",
        "    print(\"\\n\" + \"=\"*80)\n",
        "    print(\"SECTION 3.1: PRINCIPAL COMPONENT ANALYSIS (PCA)\")\n",
        "    print(\"=\"*80)\n",
        "\n",
        "    print(\"Applying PCA to identify principal components in vehicle silhouette features...\")\n",
        "\n",
        "    # Fit PCA with all components to analyze full variance structure\n",
        "    pca_full = PCA()\n",
        "    X_train_pca_full = pca_full.fit_transform(X_train)\n",
        "\n",
        "    # Store basic information\n",
        "    n_original_features = X_train.shape[1]\n",
        "    n_samples = X_train.shape[0]\n",
        "\n",
        "    print(f\"\\n📊 PCA INITIALIZATION:\")\n",
        "    print(f\"   • Original feature dimensions: {n_original_features}\")\n",
        "    print(f\"   • Training samples: {n_samples}\")\n",
        "    print(f\"   • PCA components computed: {len(pca_full.components_)}\")\n",
        "\n",
        "    # Analyze component importance\n",
        "    feature_importance = np.abs(pca_full.components_).mean(axis=1)\n",
        "\n",
        "    print(f\"\\n🎯 COMPONENT ANALYSIS:\")\n",
        "    print(f\"   • Most important component: PC1 (explains {pca_full.explained_variance_ratio_[0]:.1%} variance)\")\n",
        "    print(f\"   • Least important component: PC{len(pca_full.components_)} (explains {pca_full.explained_variance_ratio_[-1]:.1%} variance)\")\n",
        "    print(f\"   • Top 3 components combined: {pca_full.explained_variance_ratio_[:3].sum():.1%} variance\")\n",
        "\n",
        "    pca_results['pca_full'] = pca_full\n",
        "    pca_results['n_original_features'] = n_original_features"
      ],
      "metadata": {
        "id": "7Kz1NUC8KZGH",
        "colab": {
          "base_uri": "https://localhost:8080/",
          "height": 462
        },
        "outputId": "bd17663f-99d4-40f0-cdd0-410d0107bfe5"
      },
      "execution_count": 35,
      "outputs": [
        {
          "output_type": "stream",
          "name": "stdout",
          "text": [
            "\n",
            "================================================================================\n",
            "SECTION 3.1: PRINCIPAL COMPONENT ANALYSIS (PCA)\n",
            "================================================================================\n",
            "Applying PCA to identify principal components in vehicle silhouette features...\n",
            "\n",
            "📊 PCA INITIALIZATION:\n",
            "   • Original feature dimensions: 18\n",
            "   • Training samples: 592\n",
            "   • PCA components computed: 18\n",
            "\n",
            "🎯 COMPONENT ANALYSIS:\n",
            "   • Most important component: PC1 (explains 51.3% variance)\n",
            "   • Least important component: PC18 (explains 0.0% variance)\n",
            "   • Top 3 components combined: 79.6% variance\n"
          ]
        },
        {
          "output_type": "error",
          "ename": "NameError",
          "evalue": "name 'pca_results' is not defined",
          "traceback": [
            "\u001b[0;31m---------------------------------------------------------------------------\u001b[0m",
            "\u001b[0;31mNameError\u001b[0m                                 Traceback (most recent call last)",
            "\u001b[0;32m/tmp/ipython-input-141105679.py\u001b[0m in \u001b[0;36m<cell line: 0>\u001b[0;34m()\u001b[0m\n\u001b[1;32m     26\u001b[0m \u001b[0mprint\u001b[0m\u001b[0;34m(\u001b[0m\u001b[0;34mf\"   • Top 3 components combined: {pca_full.explained_variance_ratio_[:3].sum():.1%} variance\"\u001b[0m\u001b[0;34m)\u001b[0m\u001b[0;34m\u001b[0m\u001b[0;34m\u001b[0m\u001b[0m\n\u001b[1;32m     27\u001b[0m \u001b[0;34m\u001b[0m\u001b[0m\n\u001b[0;32m---> 28\u001b[0;31m \u001b[0mpca_results\u001b[0m\u001b[0;34m[\u001b[0m\u001b[0;34m'pca_full'\u001b[0m\u001b[0;34m]\u001b[0m \u001b[0;34m=\u001b[0m \u001b[0mpca_full\u001b[0m\u001b[0;34m\u001b[0m\u001b[0;34m\u001b[0m\u001b[0m\n\u001b[0m\u001b[1;32m     29\u001b[0m \u001b[0mpca_results\u001b[0m\u001b[0;34m[\u001b[0m\u001b[0;34m'n_original_features'\u001b[0m\u001b[0;34m]\u001b[0m \u001b[0;34m=\u001b[0m \u001b[0mn_original_features\u001b[0m\u001b[0;34m\u001b[0m\u001b[0;34m\u001b[0m\u001b[0m\n",
            "\u001b[0;31mNameError\u001b[0m: name 'pca_results' is not defined"
          ]
        }
      ]
    },
    {
      "cell_type": "code",
      "source": [
        "print(\"\\n\" + \"=\"*80)\n",
        "print(\"SECTION 3.2: VARIANCE EXPLANATION ANALYSIS\")\n",
        "print(\"=\"*80)\n",
        "\n",
        "print(\"Analyzing explained variance to determine optimal number of components...\")\n",
        "\n",
        "    # Calculate cumulative variance\n",
        "    explained_variance_ratio = pca_full.explained_variance_ratio_\n",
        "    cumulative_variance = np.cumsum(explained_variance_ratio)\n",
        "\n",
        "    # Find components needed for different variance thresholds\n",
        "    variance_thresholds = [0.80, 0.85, 0.90, 0.95, 0.99]\n",
        "    threshold_components = {}\n",
        "\n",
        "    print(f\"\\n📈 VARIANCE THRESHOLD ANALYSIS:\")\n",
        "    for threshold in variance_thresholds:\n",
        "        n_components = np.argmax(cumulative_variance >= threshold) + 1\n",
        "        threshold_components[threshold] = n_components\n",
        "        reduction_pct = (n_original_features - n_components) / n_original_features * 100\n",
        "        print(f\"   • {threshold:.0%} variance: {n_components:2d} components (reduces by {reduction_pct:.1f}%)\")\n",
        "\n",
        "    # Detailed variance analysis\n",
        "    print(f\"\\n🔍 DETAILED VARIANCE BREAKDOWN:\")\n",
        "    print(f\"   • First component: {explained_variance_ratio[0]:.1%}\")\n",
        "    print(f\"   • First 2 components: {explained_variance_ratio[:2].sum():.1%}\")\n",
        "    print(f\"   • First 3 components: {explained_variance_ratio[:3].sum():.1%}\")\n",
        "    print(f\"   • First 5 components: {explained_variance_ratio[:5].sum():.1%}\")\n",
        "\n",
        "    # Create comprehensive variance visualizations\n",
        "    fig, axes = plt.subplots(2, 2, figsize=(16, 12))\n",
        "\n",
        "    # Individual explained variance\n",
        "    axes[0, 0].bar(range(1, len(explained_variance_ratio) + 1), explained_variance_ratio,\n",
        "                   alpha=0.7, color='skyblue')\n",
        "    axes[0, 0].set_xlabel('Principal Component')\n",
        "    axes[0, 0].set_ylabel('Explained Variance Ratio')\n",
        "    axes[0, 0].set_title('Individual Explained Variance by Component')\n",
        "    axes[0, 0].grid(True, alpha=0.3)\n",
        "\n",
        "    # Cumulative explained variance\n",
        "    axes[0, 1].plot(range(1, len(cumulative_variance) + 1), cumulative_variance,\n",
        "                   'bo-', linewidth=2, markersize=4)\n",
        "    for threshold in [0.85, 0.90, 0.95]:\n",
        "        axes[0, 1].axhline(y=threshold, color='red', linestyle='--', alpha=0.7,\n",
        "                          label=f'{threshold:.0%} threshold')\n",
        "        n_comp = threshold_components[threshold]\n",
        "        axes[0, 1].axvline(x=n_comp, color='red', linestyle=':', alpha=0.5)\n",
        "        axes[0, 1].text(n_comp, threshold-0.05, f'{n_comp}', ha='center')\n",
        "    axes[0, 1].set_xlabel('Number of Components')\n",
        "    axes[0, 1].set_ylabel('Cumulative Explained Variance')\n",
        "    axes[0, 1].set_title('Cumulative Explained Variance')\n",
        "    axes[0, 1].legend()\n",
        "    axes[0, 1].grid(True, alpha=0.3)\n",
        "\n",
        "    # Scree plot (focus on first 10 components)\n",
        "    axes[1, 0].plot(range(1, min(11, len(explained_variance_ratio) + 1)),\n",
        "                   explained_variance_ratio[:10], 'ro-', linewidth=2)\n",
        "    axes[1, 0].set_xlabel('Principal Component')\n",
        "    axes[1, 0].set_ylabel('Explained Variance Ratio')\n",
        "    axes[1, 0].set_title('Scree Plot (First 10 Components)')\n",
        "    axes[1, 0].grid(True, alpha=0.3)\n",
        "\n",
        "    # Component importance heatmap (first 10 components)\n",
        "    if n_original_features <= 20:  # Only show if reasonable number of features\n",
        "        sns.heatmap(pca_full.components_[:10], cmap='RdBu_r', center=0,\n",
        "                   annot=False, ax=axes[1, 1], cbar_kws={'label': 'Component Loading'})\n",
        "        axes[1, 1].set_xlabel('Original Features')\n",
        "        axes[1, 1].set_ylabel('Principal Components')\n",
        "        axes[1, 1].set_title('PCA Loading Matrix (First 10 Components)')\n",
        "    else:\n",
        "        axes[1, 1].bar(range(1, 11), feature_importance[:10])\n",
        "        axes[1, 1].set_xlabel('Principal Component')\n",
        "        axes[1, 1].set_ylabel('Average Absolute Loading')\n",
        "        axes[1, 1].set_title('Component Importance (First 10)')\n",
        "        axes[1, 1].grid(True, alpha=0.3)\n",
        "\n",
        "    plt.tight_layout()\n",
        "    plt.show()\n",
        "\n",
        "    pca_results['explained_variance_ratio'] = explained_variance_ratio\n",
        "    pca_results['cumulative_variance'] = cumulative_variance\n",
        "    pca_results['threshold_components'] = threshold_components"
      ],
      "metadata": {
        "colab": {
          "base_uri": "https://localhost:8080/",
          "height": 105
        },
        "id": "NJCc4vJVwFy8",
        "outputId": "15d353cf-ac07-47a3-e79d-468b5ef556fd"
      },
      "execution_count": 38,
      "outputs": [
        {
          "output_type": "error",
          "ename": "IndentationError",
          "evalue": "unexpected indent (ipython-input-3715247407.py, line 8)",
          "traceback": [
            "\u001b[0;36m  File \u001b[0;32m\"/tmp/ipython-input-3715247407.py\"\u001b[0;36m, line \u001b[0;32m8\u001b[0m\n\u001b[0;31m    explained_variance_ratio = pca_full.explained_variance_ratio_\u001b[0m\n\u001b[0m    ^\u001b[0m\n\u001b[0;31mIndentationError\u001b[0m\u001b[0;31m:\u001b[0m unexpected indent\n"
          ]
        }
      ]
    },
    {
      "cell_type": "code",
      "source": [
        "    print(\"\\n\" + \"=\"*80)\n",
        "    print(\"SECTION 3.3: OPTIMAL COMPONENT SELECTION\")\n",
        "    print(\"=\"*80)\n",
        "\n",
        "    print(\"Determining optimal number of components based on multiple criteria...\")\n",
        "\n",
        "    # Method 1: Kaiser criterion (eigenvalues > 1)\n",
        "    eigenvalues = pca_full.explained_variance_\n",
        "    kaiser_components = np.sum(eigenvalues > 1)\n",
        "\n",
        "    # Method 2: Elbow method analysis\n",
        "    variance_diffs = np.diff(explained_variance_ratio)\n",
        "    elbow_point = np.argmax(variance_diffs < np.mean(variance_diffs)) + 1\n",
        "\n",
        "    # Method 3: Business rule (90% variance)\n",
        "    business_components = threshold_components[0.90]\n",
        "\n",
        "    # Method 4: Clustering-optimized selection\n",
        "    silhouette_scores = []\n",
        "    component_range = range(2, min(15, n_original_features))\n",
        "\n",
        "    print(f\"\\n🧪 TESTING DIFFERENT COMPONENT COUNTS FOR CLUSTERING:\")\n",
        "    for n_comp in component_range:\n",
        "        pca_temp = PCA(n_components=n_comp)\n",
        "        X_temp = pca_temp.fit_transform(X_train)\n",
        "\n",
        "        # Quick K-means clustering to evaluate\n",
        "        try:\n",
        "            kmeans_temp = KMeans(n_clusters=3, random_state=42, n_init=10)\n",
        "            labels_temp = kmeans_temp.fit_predict(X_temp)\n",
        "            sil_score = silhouette_score(X_temp, labels_temp)\n",
        "            silhouette_scores.append(sil_score)\n",
        "            print(f\"   • {n_comp:2d} components: silhouette = {sil_score:.3f}\")\n",
        "        except:\n",
        "            silhouette_scores.append(0)\n",
        "\n",
        "    optimal_clustering_components = component_range[np.argmax(silhouette_scores)]\n",
        "\n",
        "    print(f\"\\n🎯 COMPONENT SELECTION METHODS:\")\n",
        "    print(f\"   • Kaiser criterion (eigenvalue > 1): {kaiser_components} components\")\n",
        "    print(f\"   • Elbow method: {elbow_point} components\")\n",
        "    print(f\"   • Business rule (90% variance): {business_components} components\")\n",
        "    print(f\"   • Clustering-optimized: {optimal_clustering_components} components\")\n",
        "\n",
        "    # Decision logic for optimal components\n",
        "    component_options = {\n",
        "        'Kaiser': kaiser_components,\n",
        "        'Elbow': elbow_point,\n",
        "        'Business': business_components,\n",
        "        'Clustering': optimal_clustering_components\n",
        "    }\n",
        "\n",
        "    # Choose optimal based on multiple criteria\n",
        "    optimal_components = business_components  # Default to business rule\n",
        "\n",
        "    # Validate choice\n",
        "    print(f\"\\n⚖️  COMPONENT SELECTION DECISION:\")\n",
        "    print(f\"   • Selected: {optimal_components} components\")\n",
        "    print(f\"   • Rationale: Balances variance retention ({cumulative_variance[optimal_components-1]:.1%}) with dimensionality reduction\")\n",
        "    print(f\"   • Reduction achieved: {(n_original_features - optimal_components) / n_original_features * 100:.1f}%\")\n",
        "\n",
        "    pca_results['optimal_components'] = optimal_components\n",
        "    pca_results['component_options'] = component_options\n",
        "    pca_results['silhouette_scores'] = silhouette_scores\n",
        ""
      ],
      "metadata": {
        "colab": {
          "base_uri": "https://localhost:8080/",
          "height": 292
        },
        "id": "f5KsREjMwiGn",
        "outputId": "deaa4e62-7faa-4f0b-d34e-026140463de6"
      },
      "execution_count": 39,
      "outputs": [
        {
          "output_type": "stream",
          "name": "stdout",
          "text": [
            "\n",
            "================================================================================\n",
            "SECTION 3.3: OPTIMAL COMPONENT SELECTION\n",
            "================================================================================\n",
            "Determining optimal number of components based on multiple criteria...\n"
          ]
        },
        {
          "output_type": "error",
          "ename": "NameError",
          "evalue": "name 'explained_variance_ratio' is not defined",
          "traceback": [
            "\u001b[0;31m---------------------------------------------------------------------------\u001b[0m",
            "\u001b[0;31mNameError\u001b[0m                                 Traceback (most recent call last)",
            "\u001b[0;32m/tmp/ipython-input-787512628.py\u001b[0m in \u001b[0;36m<cell line: 0>\u001b[0;34m()\u001b[0m\n\u001b[1;32m     10\u001b[0m \u001b[0;34m\u001b[0m\u001b[0m\n\u001b[1;32m     11\u001b[0m \u001b[0;31m# Method 2: Elbow method analysis\u001b[0m\u001b[0;34m\u001b[0m\u001b[0;34m\u001b[0m\u001b[0m\n\u001b[0;32m---> 12\u001b[0;31m \u001b[0mvariance_diffs\u001b[0m \u001b[0;34m=\u001b[0m \u001b[0mnp\u001b[0m\u001b[0;34m.\u001b[0m\u001b[0mdiff\u001b[0m\u001b[0;34m(\u001b[0m\u001b[0mexplained_variance_ratio\u001b[0m\u001b[0;34m)\u001b[0m\u001b[0;34m\u001b[0m\u001b[0;34m\u001b[0m\u001b[0m\n\u001b[0m\u001b[1;32m     13\u001b[0m \u001b[0melbow_point\u001b[0m \u001b[0;34m=\u001b[0m \u001b[0mnp\u001b[0m\u001b[0;34m.\u001b[0m\u001b[0margmax\u001b[0m\u001b[0;34m(\u001b[0m\u001b[0mvariance_diffs\u001b[0m \u001b[0;34m<\u001b[0m \u001b[0mnp\u001b[0m\u001b[0;34m.\u001b[0m\u001b[0mmean\u001b[0m\u001b[0;34m(\u001b[0m\u001b[0mvariance_diffs\u001b[0m\u001b[0;34m)\u001b[0m\u001b[0;34m)\u001b[0m \u001b[0;34m+\u001b[0m \u001b[0;36m1\u001b[0m\u001b[0;34m\u001b[0m\u001b[0;34m\u001b[0m\u001b[0m\n\u001b[1;32m     14\u001b[0m \u001b[0;34m\u001b[0m\u001b[0m\n",
            "\u001b[0;31mNameError\u001b[0m: name 'explained_variance_ratio' is not defined"
          ]
        }
      ]
    },
    {
      "cell_type": "code",
      "source": [
        " print(\"\\n\" + \"=\"*80)\n",
        "    print(\"SECTION 3.4: DIMENSIONALITY REDUCTION EFFICIENCY ASSESSMENT\")\n",
        "    print(\"=\"*80)\n",
        "\n",
        "    print(\"Assessing the efficiency and impact of dimensionality reduction...\")\n",
        "\n",
        "    # Apply optimal PCA\n",
        "    pca_optimal = PCA(n_components=optimal_components)\n",
        "    X_train_pca = pca_optimal.fit_transform(X_train)\n",
        "    X_test_pca = pca_optimal.transform(X_test)\n",
        "\n",
        "    # Efficiency metrics\n",
        "    variance_retained = cumulative_variance[optimal_components - 1]\n",
        "    variance_lost = 1 - variance_retained\n",
        "    dimension_reduction = (n_original_features - optimal_components) / n_original_features\n",
        "    compression_ratio = n_original_features / optimal_components\n",
        "\n",
        "    print(f\"\\n📊 DIMENSIONALITY REDUCTION EFFICIENCY:\")\n",
        "    print(f\"   • Original dimensions: {n_original_features}\")\n",
        "    print(f\"   • Reduced dimensions: {optimal_components}\")\n",
        "    print(f\"   • Dimension reduction: {dimension_reduction:.1%}\")\n",
        "    print(f\"   • Compression ratio: {compression_ratio:.1f}:1\")\n",
        "    print(f\"   • Variance retained: {variance_retained:.1%}\")\n",
        "    print(f\"   • Information loss: {variance_lost:.1%}\")\n",
        "\n",
        "    # Computational efficiency\n",
        "    original_features_count = X_train.shape[1] * X_train.shape[0]\n",
        "    reduced_features_count = X_train_pca.shape[1] * X_train_pca.shape[0]\n",
        "    computational_reduction = 1 - (reduced_features_count / original_features_count)\n",
        "\n",
        "    print(f\"\\n💻 COMPUTATIONAL EFFICIENCY:\")\n",
        "    print(f\"   • Original feature space size: {original_features_count:,}\")\n",
        "    print(f\"   • Reduced feature space size: {reduced_features_count:,}\")\n",
        "    print(f\"   • Computational reduction: {computational_reduction:.1%}\")\n",
        "\n",
        "    # Quality assessment\n",
        "    reconstruction_error = np.mean((X_train - pca_optimal.inverse_transform(X_train_pca)) ** 2)\n",
        "\n",
        "    print(f\"\\n🎯 QUALITY ASSESSMENT:\")\n",
        "    print(f\"   • Mean reconstruction error: {reconstruction_error:.6f}\")\n",
        "    print(f\"   • Relative reconstruction error: {reconstruction_error / np.var(X_train):.1%}\")\n",
        "\n",
        "    # Efficiency conclusion\n",
        "    efficiency_score = (dimension_reduction * 0.4 + variance_retained * 0.6) * 100\n",
        "\n",
        "    print(f\"\\n⭐ OVERALL EFFICIENCY ASSESSMENT:\")\n",
        "    print(f\"   • Efficiency score: {efficiency_score:.1f}/100\")\n",
        "\n",
        "    if efficiency_score > 75:\n",
        "        efficiency_rating = \"EXCELLENT\"\n",
        "        recommendation = \"PCA highly recommended for this dataset\"\n",
        "    elif efficiency_score > 60:\n",
        "        efficiency_rating = \"GOOD\"\n",
        "        recommendation = \"PCA provides good benefits for this dataset\"\n",
        "    elif efficiency_score > 45:\n",
        "        efficiency_rating = \"MODERATE\"\n",
        "        recommendation = \"PCA provides modest benefits\"\n",
        "    else:\n",
        "        efficiency_rating = \"LIMITED\"\n",
        "        recommendation = \"Consider using original features\"\n",
        "\n",
        "    print(f\"   • Rating: {efficiency_rating}\")\n",
        "    print(f\"   • Recommendation: {recommendation}\")\n",
        "\n",
        "    # Visualization of original vs reduced space (using t-SNE for comparison)\n",
        "    if X_train.shape[0] <= 1000:  # Only if computationally feasible\n",
        "        print(f\"\\n📈 Creating dimensionality comparison visualization...\")\n",
        "\n",
        "        fig, axes = plt.subplots(1, 2, figsize=(15, 6))\n",
        "\n",
        "        # t-SNE of original space\n",
        "        tsne_original = TSNE(n_components=2, random_state=42, perplexity=min(30, X_train.shape[0]//4))\n",
        "        X_tsne_original = tsne_original.fit_transform(X_train)\n",
        "\n",
        "        axes[0].scatter(X_tsne_original[:, 0], X_tsne_original[:, 1], alpha=0.6)\n",
        "        axes[0].set_title(f'Original Space t-SNE\\n({n_original_features} dimensions)')\n",
        "        axes[0].set_xlabel('t-SNE Component 1')\n",
        "        axes[0].set_ylabel('t-SNE Component 2')\n",
        "\n",
        "        # t-SNE of PCA reduced space\n",
        "        tsne_pca = TSNE(n_components=2, random_state=42, perplexity=min(30, X_train_pca.shape[0]//4))\n",
        "        X_tsne_pca = tsne_pca.fit_transform(X_train_pca)\n",
        "\n",
        "        axes[1].scatter(X_tsne_pca[:, 0], X_tsne_pca[:, 1], alpha=0.6)\n",
        "        axes[1].set_title(f'PCA Reduced Space t-SNE\\n({optimal_components} dimensions)')\n",
        "        axes[1].set_xlabel('t-SNE Component 1')\n",
        "        axes[1].set_ylabel('t-SNE Component 2')\n",
        "\n",
        "        plt.tight_layout()\n",
        "        plt.show()\n",
        "\n",
        "    pca_results['X_train_pca'] = X_train_pca\n",
        "    pca_results['X_test_pca'] = X_test_pca\n",
        "    pca_results['pca_optimal'] = pca_optimal\n",
        "    pca_results['efficiency_score'] = efficiency_score\n",
        "    pca_results['efficiency_rating'] = efficiency_rating\n",
        "    pca_results['recommendation'] = recommendation\n",
        "\n",
        "    print(f\"\\n✅ SECTION 3 COMPLETED: Dimensionality reduction analysis finished\")\n",
        "    print(f\"   • Optimal components selected: {optimal_components}\")\n",
        "    print(f\"   • Efficiency rating: {efficiency_rating}\")\n",
        "    print(f\"   • Ready for clustering analysis\")\n",
        "\n",
        "    return pca_results\n"
      ],
      "metadata": {
        "colab": {
          "base_uri": "https://localhost:8080/",
          "height": 105
        },
        "id": "AwaB0m4Ow2T0",
        "outputId": "624a28ea-368e-4add-be87-d05db761a509"
      },
      "execution_count": 40,
      "outputs": [
        {
          "output_type": "error",
          "ename": "IndentationError",
          "evalue": "unexpected indent (ipython-input-943640973.py, line 2)",
          "traceback": [
            "\u001b[0;36m  File \u001b[0;32m\"/tmp/ipython-input-943640973.py\"\u001b[0;36m, line \u001b[0;32m2\u001b[0m\n\u001b[0;31m    print(\"SECTION 3.4: DIMENSIONALITY REDUCTION EFFICIENCY ASSESSMENT\")\u001b[0m\n\u001b[0m    ^\u001b[0m\n\u001b[0;31mIndentationError\u001b[0m\u001b[0;31m:\u001b[0m unexpected indent\n"
          ]
        }
      ]
    },
    {
      "cell_type": "code",
      "source": [],
      "metadata": {
        "id": "xYR_hJ0UH9hV"
      },
      "execution_count": null,
      "outputs": []
    },
    {
      "cell_type": "code",
      "source": [],
      "metadata": {
        "id": "VbnXhT0GJ57J"
      },
      "execution_count": null,
      "outputs": []
    },
    {
      "cell_type": "code",
      "source": [
        "##### 3.1 through 3.4\n",
        "\n",
        "def section_3_dimensionality_reduction_analysis(X_train, X_test):\n",
        "\n",
        "      print(\"=\"*80)\n",
        "      print(\"SECTION 3: DIMENSIONALITY REDUCTION ANALYSIS\")\n",
        "      print(\"=\"*80)\n",
        "\n",
        "      print(\"Evaluating dimensionality reduction effectiveness for vehicle classification...\")\n",
        "\n",
        "      pca_results = {}\n",
        "\n",
        "    # 3.1 PCA\n",
        "      print(\"\\n\" + \"=\"*80)\n",
        "      print(\"SECTION 3.1: PRINCIPAL COMPONENT ANALYSIS (PCA)\")\n",
        "      print(\"=\"*80)\n",
        "\n",
        "      print(\"Applying PCA to identify principal components in vehicle silhouette features...\")\n",
        "\n",
        "      pca_full = PCA()\n",
        "      X_train_pca_full = pca_full.fit_transform(X_train)\n",
        "\n",
        "      n_original_features = X_train.shape[1]\n",
        "      n_samples = X_train.shape[0]\n",
        "\n",
        "      print(f\"\\n📊 PCA INITIALIZATION:\")\n",
        "      print(f\"   • Original feature dimensions: {n_original_features}\")\n",
        "      print(f\"   • Training samples: {n_samples}\")\n",
        "      print(f\"   • PCA components computed: {len(pca_full.components_)}\")\n",
        "\n",
        "      feature_importance = np.abs(pca_full.components_).mean(axis=1)\n",
        "\n",
        "      print(f\"\\n🎯 COMPONENT ANALYSIS:\")\n",
        "      print(f\"   • Most important component: PC1 (explains {pca_full.explained_variance_ratio_[0]:.1%} variance)\")\n",
        "      print(f\"   • Least important component: PC{len(pca_full.components_)} (explains {pca_full.explained_variance_ratio_[-1]:.1%} variance)\")\n",
        "      print(f\"   • Top 3 components combined: {pca_full.explained_variance_ratio_[:3].sum():.1%} variance\")\n",
        "\n",
        "      pca_results['pca_full'] = pca_full\n",
        "      pca_results['n_original_features'] = n_original_features\n",
        "\n",
        "    # 3.2 Variance Explanation Analysis\n",
        "      print(\"\\n\" + \"=\"*80)\n",
        "      print(\"SECTION 3.2: VARIANCE EXPLANATION ANALYSIS\")\n",
        "      print(\"=\"*80)\n",
        "      print(\"Analyzing explained variance to determine optimal number of components...\")\n",
        "\n",
        "      explained_variance_ratio = pca_full.explained_variance_ratio_\n",
        "      cumulative_variance = np.cumsum(explained_variance_ratio)\n",
        "\n",
        "      variance_thresholds = [0.80, 0.85, 0.90, 0.95, 0.99]\n",
        "      threshold_components = {}\n",
        "\n",
        "      print(f\"\\n📈 VARIANCE THRESHOLD ANALYSIS:\")\n",
        "      for threshold in variance_thresholds:\n",
        "        n_components = np.argmax(cumulative_variance >= threshold) + 1\n",
        "        threshold_components[threshold] = n_components\n",
        "        reduction_pct = (n_original_features - n_components) / n_original_features * 100\n",
        "        print(f\"   • {threshold:.0%} variance: {n_components:2d} components (reduces by {reduction_pct:.1f}%)\")\n",
        "\n",
        "        print(f\"\\n🔍 DETAILED VARIANCE BREAKDOWN:\")\n",
        "        print(f\"   • First component: {explained_variance_ratio[0]:.1%}\")\n",
        "        print(f\"   • First 2 components: {explained_variance_ratio[:2].sum():.1%}\")\n",
        "        print(f\"   • First 3 components: {explained_variance_ratio[:3].sum():.1%}\")\n",
        "        print(f\"   • First 5 components: {explained_variance_ratio[:5].sum():.1%}\")\n",
        "\n",
        "    # Plotting\n",
        "        fig, axes = plt.subplots(2, 2, figsize=(16, 12))\n",
        "\n",
        "        axes[0, 0].bar(range(1, len(explained_variance_ratio) + 1), explained_variance_ratio, alpha=0.7, color='skyblue')\n",
        "        axes[0, 0].set_xlabel('Principal Component')\n",
        "        axes[0, 0].set_ylabel('Explained Variance Ratio')\n",
        "        axes[0, 0].set_title('Individual Explained Variance by Component')\n",
        "        axes[0, 0].grid(True, alpha=0.3)\n",
        "\n",
        "        axes[0, 1].plot(range(1, len(cumulative_variance) + 1), cumulative_variance, 'bo-', linewidth=2, markersize=4)\n",
        "        for threshold in [0.85, 0.90, 0.95]:\n",
        "         axes[0, 1].axhline(y=threshold, color='red', linestyle='--', alpha=0.7, label=f'{threshold:.0%} threshold')\n",
        "        n_comp = threshold_components[threshold]\n",
        "        axes[0, 1].axvline(x=n_comp, color='red', linestyle=':', alpha=0.5)\n",
        "        axes[0, 1].text(n_comp, threshold-0.05, f'{n_comp}', ha='center')\n",
        "        axes[0, 1].set_xlabel('Number of Components')\n",
        "        axes[0, 1].set_ylabel('Cumulative Explained Variance')\n",
        "        axes[0, 1].set_title('Cumulative Explained Variance')\n",
        "        axes[0, 1].legend()\n",
        "        axes[0, 1].grid(True, alpha=0.3)\n",
        "\n",
        "        axes[1, 0].plot(range(1, min(11, len(explained_variance_ratio) + 1)), explained_variance_ratio[:10], 'ro-', linewidth=2)\n",
        "        axes[1, 0].set_xlabel('Principal Component')\n",
        "        axes[1, 0].set_ylabel('Explained Variance Ratio')\n",
        "        axes[1, 0].set_title('Scree Plot (First 10 Components)')\n",
        "        axes[1, 0].grid(True, alpha=0.3)\n",
        "\n",
        "        if n_original_features <= 20:\n",
        "         sns.heatmap(pca_full.components_[:10], cmap='RdBu_r', center=0, annot=False, ax=axes[1, 1], cbar_kws={'label': 'Component Loading'})\n",
        "        axes[1, 1].set_xlabel('Original Features')\n",
        "        axes[1, 1].set_ylabel('Principal Components')\n",
        "        axes[1, 1].set_title('PCA Loading Matrix (First 10 Components)')\n",
        "      else:\n",
        "        axes[1, 1].bar(range(1, 11), feature_importance[:10])\n",
        "        axes[1, 1].set_xlabel('Principal Component')\n",
        "        axes[1, 1].set_ylabel('Average Absolute Loading')\n",
        "        axes[1, 1].set_title('Component Importance (First 10)')\n",
        "        axes[1, 1].grid(True, alpha=0.3)\n",
        "\n",
        "        plt.tight_layout()\n",
        "        plt.show()\n",
        "\n",
        "        pca_results['explained_variance_ratio'] = explained_variance_ratio\n",
        "        pca_results['cumulative_variance'] = cumulative_variance\n",
        "        pca_results['threshold_components'] = threshold_components\n",
        "\n",
        "    # 3.3 Optimal Component Selection\n",
        "    print(\"\\n\" + \"=\"*80)\n",
        "    print(\"SECTION 3.3: OPTIMAL COMPONENT SELECTION\")\n",
        "    print(\"=\"*80)\n",
        "\n",
        "    print(\"Determining optimal number of components based on multiple criteria...\")\n",
        "\n",
        "    eigenvalues = pca_full.explained_variance_\n",
        "    kaiser_components = np.sum(eigenvalues > 1)\n",
        "    variance_diffs = np.diff(explained_variance_ratio)\n",
        "    elbow_point = np.argmax(variance_diffs < np.mean(variance_diffs)) + 1\n",
        "    business_components = threshold_components[0.90]\n",
        "\n",
        "    silhouette_scores = []\n",
        "    component_range = range(2, min(15, n_original_features))\n",
        "\n",
        "    print(f\"\\n🧪 TESTING DIFFERENT COMPONENT COUNTS FOR CLUSTERING:\")\n",
        "    for n_comp in component_range:\n",
        "        pca_temp = PCA(n_components=n_comp)\n",
        "        X_temp = pca_temp.fit_transform(X_train)\n",
        "        try:\n",
        "            kmeans_temp = KMeans(n_clusters=3, random_state=42, n_init=10)\n",
        "            labels_temp = kmeans_temp.fit_predict(X_temp)\n",
        "            sil_score = silhouette_score(X_temp, labels_temp)\n",
        "            silhouette_scores.append(sil_score)\n",
        "            print(f\"   • {n_comp:2d} components: silhouette = {sil_score:.3f}\")\n",
        "        except:\n",
        "            silhouette_scores.append(0)\n",
        "\n",
        "    optimal_clustering_components = component_range[np.argmax(silhouette_scores)]\n",
        "\n",
        "    print(f\"\\n🎯 COMPONENT SELECTION METHODS:\")\n",
        "    print(f\"   • Kaiser criterion (eigenvalue > 1): {kaiser_components} components\")\n",
        "    print(f\"   • Elbow method: {elbow_point} components\")\n",
        "    print(f\"   • Business rule (90% variance): {business_components} components\")\n",
        "    print(f\"   • Clustering-optimized: {optimal_clustering_components} components\")\n",
        "\n",
        "    component_options = {\n",
        "        'Kaiser': kaiser_components,\n",
        "        'Elbow': elbow_point,\n",
        "        'Business': business_components,\n",
        "        'Clustering': optimal_clustering_components\n",
        "    }\n",
        "\n",
        "    optimal_components = business_components  # Default\n",
        "\n",
        "    print(f\"\\n⚖️  COMPONENT SELECTION DECISION:\")\n",
        "    print(f\"   • Selected: {optimal_components} components\")\n",
        "    print(f\"   • Rationale: Balances variance retention ({cumulative_variance[optimal_components-1]:.1%}) with dimensionality reduction\")\n",
        "    print(f\"   • Reduction achieved: {(n_original_features - optimal_components) / n_original_features * 100:.1f}%\")\n",
        "\n",
        "    pca_results['optimal_components'] = optimal_components\n",
        "    pca_results['component_options'] = component_options\n",
        "    pca_results['silhouette_scores'] = silhouette_scores\n",
        "\n",
        "    # 3.4 Dimensionality Reduction Efficiency Assessment\n",
        "    print(\"\\n\" + \"=\"*80)\n",
        "    print(\"SECTION 3.4: DIMENSIONALITY REDUCTION EFFICIENCY ASSESSMENT\")\n",
        "    print(\"=\"*80)\n",
        "\n",
        "    print(\"Assessing the efficiency and impact of dimensionality reduction...\")\n",
        "\n",
        "    pca_optimal = PCA(n_components=optimal_components)\n",
        "    X_train_pca = pca_optimal.fit_transform(X_train)\n",
        "    X_test_pca = pca_optimal.transform(X_test)\n",
        "\n",
        "    variance_retained = cumulative_variance[optimal_components - 1]\n",
        "    variance_lost = 1 - variance_retained\n",
        "    dimension_reduction = (n_original_features - optimal_components) / n_original_features\n",
        "    compression_ratio = n_original_features / optimal_components\n",
        "\n",
        "    print(f\"\\n📊 DIMENSIONALITY REDUCTION EFFICIENCY:\")\n",
        "    print(f\"   • Original dimensions: {n_original_features}\")\n",
        "    print(f\"   • Reduced dimensions: {optimal_components}\")\n",
        "    print(f\"   • Dimension reduction: {dimension_reduction:.1%}\")\n",
        "    print(f\"   • Compression ratio: {compression_ratio:.1f}:1\")\n",
        "    print(f\"   • Variance retained: {variance_retained:.1%}\")\n",
        "    print(f\"   • Information loss: {variance_lost:.1%}\")\n",
        "\n",
        "    original_features_count = X_train.shape[1] * X_train.shape[0]\n",
        "    reduced_features_count = X_train_pca.shape[1] * X_train_pca.shape[0]\n",
        "    computational_reduction = 1 - (reduced_features_count / original_features_count)\n",
        "\n",
        "    print(f\"\\n💻 COMPUTATIONAL EFFICIENCY:\")\n",
        "    print(f\"   • Original feature space size: {original_features_count:,}\")\n",
        "    print(f\"   • Reduced feature space size: {reduced_features_count:,}\")\n",
        "    print(f\"   • Computational reduction: {computational_reduction:.1%}\")\n",
        "\n",
        "    reconstruction_error = np.mean((X_train - pca_optimal.inverse_transform(X_train_pca)) ** 2)\n",
        "\n",
        "    print(f\"\\n🎯 QUALITY ASSESSMENT:\")\n",
        "    print(f\"   • Mean reconstruction error: {reconstruction_error:.6f}\")\n",
        "    print(f\"   • Relative reconstruction error: {reconstruction_error / np.var(X_train):.1%}\")\n",
        "\n",
        "    efficiency_score = (dimension_reduction * 0.4 + variance_retained * 0.6) * 100\n",
        "\n",
        "    print(f\"\\n⭐ OVERALL EFFICIENCY ASSESSMENT:\")\n",
        "    print(f\"   • Efficiency score: {efficiency_score:.1f}/100\")\n",
        "\n",
        "    if efficiency_score > 75:\n",
        "        efficiency_rating = \"EXCELLENT\"\n",
        "        recommendation = \"PCA highly recommended for this dataset\"\n",
        "    elif efficiency_score > 60:\n",
        "        efficiency_rating = \"GOOD\"\n",
        "        recommendation = \"PCA provides good benefits for this dataset\"\n",
        "    elif efficiency_score > 45:\n",
        "        efficiency_rating = \"MODERATE\"\n",
        "        recommendation = \"PCA provides modest benefits\"\n",
        "    else:\n",
        "        efficiency_rating = \"LIMITED\"\n",
        "        recommendation = \"Consider using original features\"\n",
        "\n",
        "    print(f\"   • Rating: {efficiency_rating}\")\n",
        "    print(f\"   • Recommendation: {recommendation}\")\n",
        "\n",
        "    if X_train.shape[0] <= 1000:\n",
        "        print(f\"\\n📈 Creating dimensionality comparison visualization...\")\n",
        "\n",
        "        fig, axes = plt.subplots(1, 2, figsize=(15, 6))\n",
        "\n",
        "        from sklearn.manifold import TSNE\n",
        "\n",
        "        tsne_original = TSNE(n_components=2, random_state=42, perplexity=min(30, X_train.shape[0]//4))\n",
        "        X_tsne_original = tsne_original.fit_transform(X_train)\n",
        "\n",
        "        axes[0].scatter(X_tsne_original[:, 0], X_tsne_original[:, 1], alpha=0.6)\n",
        "        axes[0].set_title(f'Original Space t-SNE\\n({n_original_features} dimensions)')\n",
        "        axes[0].set_xlabel('t-SNE Component 1')\n",
        "        axes[0].set_ylabel('t-SNE Component 2')\n",
        "\n",
        "        tsne_pca = TSNE(n_components=2, random_state=42, perplexity=min(30, X_train_pca.shape[0]//4))\n",
        "        X_tsne_pca = tsne_pca.fit_transform(X_train_pca)\n",
        "\n",
        "        axes[1].scatter(X_tsne_pca[:, 0], X_tsne_pca[:, 1], alpha=0.6)\n",
        "        axes[1].set_title(f'PCA Reduced Space t-SNE\\n({optimal_components} dimensions)')\n",
        "        axes[1].set_xlabel('t-SNE Component 1')\n",
        "        axes[1].set_ylabel('t-SNE Component 2')\n",
        "\n",
        "        plt.tight_layout()\n",
        "        plt.show()\n",
        "\n",
        "    pca_results['X_train_pca'] = X_train_pca\n",
        "    pca_results['X_test_pca'] = X_test_pca\n",
        "    pca_results['pca_optimal'] = pca_optimal\n",
        "    pca_results['efficiency_score'] = efficiency_score\n",
        "    pca_results['efficiency_rating'] = efficiency_rating\n",
        "    pca_results['recommendation'] = recommendation\n",
        "\n",
        "    print(f\"\\n✅ SECTION 3 COMPLETED: Dimensionality reduction analysis finished\")\n",
        "    print(f\"   • Optimal components selected: {optimal_components}\")\n",
        "    print(f\"   • Efficiency rating: {efficiency_rating}\")\n",
        "    print(f\"   • Ready for clustering analysis\")\n",
        "\n",
        "    return pca_results"
      ],
      "metadata": {
        "colab": {
          "base_uri": "https://localhost:8080/",
          "height": 105
        },
        "id": "CmmmCt3DJ52M",
        "outputId": "c6781278-9a8c-4e4a-eef3-59ea4a2d29b8"
      },
      "execution_count": 50,
      "outputs": [
        {
          "output_type": "error",
          "ename": "IndentationError",
          "evalue": "unindent does not match any outer indentation level (<tokenize>, line 111)",
          "traceback": [
            "\u001b[0;36m  File \u001b[0;32m\"<tokenize>\"\u001b[0;36m, line \u001b[0;32m111\u001b[0m\n\u001b[0;31m    print(\"\\n\" + \"=\"*80)\u001b[0m\n\u001b[0m    ^\u001b[0m\n\u001b[0;31mIndentationError\u001b[0m\u001b[0;31m:\u001b[0m unindent does not match any outer indentation level\n"
          ]
        }
      ]
    },
    {
      "cell_type": "code",
      "source": [
        "pca_results = section_3_dimensionality_reduction_analysis(X_train, X_test)"
      ],
      "metadata": {
        "colab": {
          "base_uri": "https://localhost:8080/"
        },
        "id": "cCTQo-7yJ5xi",
        "outputId": "c92b7333-ccfa-45d5-95ff-b185fb52a9fb"
      },
      "execution_count": 51,
      "outputs": [
        {
          "output_type": "stream",
          "name": "stdout",
          "text": [
            "================================================================================\n",
            "SECTION 3: DIMENSIONALITY REDUCTION ANALYSIS\n",
            "================================================================================\n",
            "Evaluating dimensionality reduction effectiveness for vehicle classification...\n"
          ]
        }
      ]
    },
    {
      "cell_type": "code",
      "source": [],
      "metadata": {
        "id": "pe9-oXB3NuVg"
      },
      "execution_count": null,
      "outputs": []
    },
    {
      "cell_type": "code",
      "source": [
        "def pca_fit_analysis(X_train):\n",
        "    print(\"=\"*80)\n",
        "    print(\"SECTION 3.1: PRINCIPAL COMPONENT ANALYSIS (PCA)\")\n",
        "    print(\"=\"*80)\n",
        "\n",
        "    pca_full = PCA()\n",
        "    X_train_pca_full = pca_full.fit_transform(X_train)\n",
        "\n",
        "    n_original_features = X_train.shape[1]\n",
        "    n_samples = X_train.shape[0]\n",
        "\n",
        "    print(f\"\\n📊 PCA INITIALIZATION:\")\n",
        "    print(f\"   • Original feature dimensions: {n_original_features}\")\n",
        "    print(f\"   • Training samples: {n_samples}\")\n",
        "    print(f\"   • PCA components computed: {len(pca_full.components_)}\")\n",
        "\n",
        "    feature_importance = np.abs(pca_full.components_).mean(axis=1)\n",
        "\n",
        "    print(f\"\\n🎯 COMPONENT ANALYSIS:\")\n",
        "    print(f\"   • Most important component: PC1 (explains {pca_full.explained_variance_ratio_[0]:.1%} variance)\")\n",
        "    print(f\"   • Least important component: PC{len(pca_full.components_)} (explains {pca_full.explained_variance_ratio_[-1]:.1%} variance)\")\n",
        "    print(f\"   • Top 3 components combined: {pca_full.explained_variance_ratio_[:3].sum():.1%} variance\")\n",
        "\n",
        "    return pca_full, feature_importance, n_original_features"
      ],
      "metadata": {
        "id": "xnpJ_7ZzNuTn"
      },
      "execution_count": 52,
      "outputs": []
    },
    {
      "cell_type": "code",
      "source": [
        "def pca_variance_analysis(pca_full, feature_importance, n_original_features):\n",
        "    print(\"\\n\" + \"=\"*80)\n",
        "    print(\"SECTION 3.2: VARIANCE EXPLANATION ANALYSIS\")\n",
        "    print(\"=\"*80)\n",
        "\n",
        "    explained_variance_ratio = pca_full.explained_variance_ratio_\n",
        "    cumulative_variance = np.cumsum(explained_variance_ratio)\n",
        "\n",
        "    variance_thresholds = [0.80, 0.85, 0.90, 0.95, 0.99]\n",
        "    threshold_components = {}\n",
        "\n",
        "    print(f\"\\n📈 VARIANCE THRESHOLD ANALYSIS:\")\n",
        "    for threshold in variance_thresholds:\n",
        "        n_components = np.argmax(cumulative_variance >= threshold) + 1\n",
        "        threshold_components[threshold] = n_components\n",
        "        reduction_pct = (n_original_features - n_components) / n_original_features * 100\n",
        "        print(f\"   • {threshold:.0%} variance: {n_components:2d} components (reduces by {reduction_pct:.1f}%)\")\n",
        "\n",
        "    print(f\"\\n🔍 DETAILED VARIANCE BREAKDOWN:\")\n",
        "    print(f\"   • First component: {explained_variance_ratio[0]:.1%}\")\n",
        "    print(f\"   • First 2 components: {explained_variance_ratio[:2].sum():.1%}\")\n",
        "    print(f\"   • First 3 components: {explained_variance_ratio[:3].sum():.1%}\")\n",
        "    print(f\"   • First 5 components: {explained_variance_ratio[:5].sum():.1%}\")\n",
        "\n",
        "    fig, axes = plt.subplots(2, 2, figsize=(16, 12))\n",
        "\n",
        "    axes[0, 0].bar(range(1, len(explained_variance_ratio) + 1), explained_variance_ratio, alpha=0.7, color='skyblue')\n",
        "    axes[0, 0].set_xlabel('Principal Component')\n",
        "    axes[0, 0].set_ylabel('Explained Variance Ratio')\n",
        "    axes[0, 0].set_title('Individual Explained Variance by Component')\n",
        "    axes[0, 0].grid(True, alpha=0.3)\n",
        "\n",
        "    axes[0, 1].plot(range(1, len(cumulative_variance) + 1), cumulative_variance, 'bo-', linewidth=2, markersize=4)\n",
        "    for threshold in [0.85, 0.90, 0.95]:\n",
        "        axes[0, 1].axhline(y=threshold, color='red', linestyle='--', alpha=0.7, label=f'{threshold:.0%} threshold')\n",
        "        n_comp = threshold_components[threshold]\n",
        "        axes[0, 1].axvline(x=n_comp, color='red', linestyle=':', alpha=0.5)\n",
        "        axes[0, 1].text(n_comp, threshold-0.05, f'{n_comp}', ha='center')\n",
        "    axes[0, 1].set_xlabel('Number of Components')\n",
        "    axes[0, 1].set_ylabel('Cumulative Explained Variance')\n",
        "    axes[0, 1].set_title('Cumulative Explained Variance')\n",
        "    axes[0, 1].legend()\n",
        "    axes[0, 1].grid(True, alpha=0.3)\n",
        "\n",
        "    axes[1, 0].plot(range(1, min(11, len(explained_variance_ratio) + 1)), explained_variance_ratio[:10], 'ro-', linewidth=2)\n",
        "    axes[1, 0].set_xlabel('Principal Component')\n",
        "    axes[1, 0].set_ylabel('Explained Variance Ratio')\n",
        "    axes[1, 0].set_title('Scree Plot (First 10 Components)')\n",
        "    axes[1, 0].grid(True, alpha=0.3)\n",
        "\n",
        "    if n_original_features <= 20:\n",
        "        sns.heatmap(pca_full.components_[:10], cmap='RdBu_r', center=0, annot=False, ax=axes[1, 1], cbar_kws={'label': 'Component Loading'})\n",
        "        axes[1, 1].set_xlabel('Original Features')\n",
        "        axes[1, 1].set_ylabel('Principal Components')\n",
        "        axes[1, 1].set_title('PCA Loading Matrix (First 10 Components)')\n",
        "    else:\n",
        "        axes[1, 1].bar(range(1, 11), feature_importance[:10])\n",
        "        axes[1, 1].set_xlabel('Principal Component')\n",
        "        axes[1, 1].set_ylabel('Average Absolute Loading')\n",
        "        axes[1, 1].set_title('Component Importance (First 10)')\n",
        "        axes[1, 1].grid(True, alpha=0.3)\n",
        "\n",
        "    plt.tight_layout()\n",
        "    plt.show()\n",
        "\n",
        "    return explained_variance_ratio, cumulative_variance, threshold_components"
      ],
      "metadata": {
        "id": "TQzCzjhDNuRy"
      },
      "execution_count": 53,
      "outputs": []
    },
    {
      "cell_type": "code",
      "source": [
        "def pca_optimal_component_selection(pca_full, explained_variance_ratio, cumulative_variance, threshold_components, X_train, n_original_features):\n",
        "    print(\"\\n\" + \"=\"*80)\n",
        "    print(\"SECTION 3.3: OPTIMAL COMPONENT SELECTION\")\n",
        "    print(\"=\"*80)\n",
        "\n",
        "    print(\"Determining optimal number of components based on multiple criteria...\")\n",
        "\n",
        "    eigenvalues = pca_full.explained_variance_\n",
        "    kaiser_components = np.sum(eigenvalues > 1)\n",
        "\n",
        "    variance_diffs = np.diff(explained_variance_ratio)\n",
        "    elbow_point = np.argmax(variance_diffs < np.mean(variance_diffs)) + 1\n",
        "\n",
        "    business_components = threshold_components[0.90]\n",
        "\n",
        "    silhouette_scores = []\n",
        "    component_range = range(2, min(15, n_original_features))\n",
        "\n",
        "    print(f\"\\n🧪 TESTING DIFFERENT COMPONENT COUNTS FOR CLUSTERING:\")\n",
        "    for n_comp in component_range:\n",
        "        pca_temp = PCA(n_components=n_comp)\n",
        "        X_temp = pca_temp.fit_transform(X_train)\n",
        "        try:\n",
        "            kmeans_temp = KMeans(n_clusters=3, random_state=42, n_init=10)\n",
        "            labels_temp = kmeans_temp.fit_predict(X_temp)\n",
        "            sil_score = silhouette_score(X_temp, labels_temp)\n",
        "            silhouette_scores.append(sil_score)\n",
        "            print(f\"   • {n_comp:2d} components: silhouette = {sil_score:.3f}\")\n",
        "        except:\n",
        "            silhouette_scores.append(0)\n",
        "\n",
        "    optimal_clustering_components = component_range[np.argmax(silhouette_scores)]\n",
        "\n",
        "    print(f\"\\n🎯 COMPONENT SELECTION METHODS:\")\n",
        "    print(f\"   • Kaiser criterion (eigenvalue > 1): {kaiser_components} components\")\n",
        "    print(f\"   • Elbow method: {elbow_point} components\")\n",
        "    print(f\"   • Business rule (90% variance): {business_components} components\")\n",
        "    print(f\"   • Clustering-optimized: {optimal_clustering_components} components\")\n",
        "\n",
        "    component_options = {\n",
        "        'Kaiser': kaiser_components,\n",
        "        'Elbow': elbow_point,\n",
        "        'Business': business_components,\n",
        "        'Clustering': optimal_clustering_components\n",
        "    }\n",
        "\n",
        "    optimal_components = business_components\n",
        "\n",
        "    print(f\"\\n⚖️  COMPONENT SELECTION DECISION:\")\n",
        "    print(f\"   • Selected: {optimal_components} components\")\n",
        "    print(f\"   • Rationale: Balances variance retention ({cumulative_variance[optimal_components-1]:.1%}) with dimensionality reduction\")\n",
        "    print(f\"   • Reduction achieved: {(n_original_features - optimal_components) / n_original_features * 100:.1f}%\")\n",
        "\n",
        "    return optimal_components, component_options, silhouette_scores"
      ],
      "metadata": {
        "id": "_kVqpV05NuPL"
      },
      "execution_count": 54,
      "outputs": []
    },
    {
      "cell_type": "code",
      "source": [
        "def pca_efficiency_assessment(X_train, X_test, optimal_components, cumulative_variance, n_original_features):\n",
        "    print(\"\\n\" + \"=\"*80)\n",
        "    print(\"SECTION 3.4: DIMENSIONALITY REDUCTION EFFICIENCY ASSESSMENT\")\n",
        "    print(\"=\"*80)\n",
        "\n",
        "    print(\"Assessing the efficiency and impact of dimensionality reduction...\")\n",
        "\n",
        "    pca_optimal = PCA(n_components=optimal_components)\n",
        "    X_train_pca = pca_optimal.fit_transform(X_train)\n",
        "    X_test_pca = pca_optimal.transform(X_test)\n",
        "\n",
        "    variance_retained = cumulative_variance[optimal_components - 1]\n",
        "    variance_lost = 1 - variance_retained\n",
        "    dimension_reduction = (n_original_features - optimal_components) / n_original_features\n",
        "    compression_ratio = n_original_features / optimal_components\n",
        "\n",
        "    print(f\"\\n📊 DIMENSIONALITY REDUCTION EFFICIENCY:\")\n",
        "    print(f\"   • Original dimensions: {n_original_features}\")\n",
        "    print(f\"   • Reduced dimensions: {optimal_components}\")\n",
        "    print(f\"   • Dimension reduction: {dimension_reduction:.1%}\")\n",
        "    print(f\"   • Compression ratio: {compression_ratio:.1f}:1\")\n",
        "    print(f\"   • Variance retained: {variance_retained:.1%}\")\n",
        "    print(f\"   • Information loss: {variance_lost:.1%}\")\n",
        "\n",
        "    original_features_count = X_train.shape[1] * X_train.shape[0]\n",
        "    reduced_features_count = X_train_pca.shape[1] * X_train_pca.shape[0]\n",
        "    computational_reduction = 1 - (reduced_features_count / original_features_count)\n",
        "\n",
        "    print(f\"\\n💻 COMPUTATIONAL EFFICIENCY:\")\n",
        "    print(f\"   • Original feature space size: {original_features_count:,}\")\n",
        "    print(f\"   • Reduced feature space size: {reduced_features_count:,}\")\n",
        "    print(f\"   • Computational reduction: {computational_reduction:.1%}\")\n",
        "\n",
        "    reconstruction_error = np.mean((X_train - pca_optimal.inverse_transform(X_train_pca)) ** 2)\n",
        "    total_var = np.var(X_train).sum()\n",
        "    print(f\"\\n🎯 QUALITY ASSESSMENT:\")\n",
        "    print(f\"   • Mean reconstruction error: {reconstruction_error:.6f}\")\n",
        "    print(f\"   • Relative reconstruction error: {reconstruction_error / total_var:.1%}\")\n",
        "\n",
        "    efficiency_score = (dimension_reduction * 0.4 + variance_retained * 0.6) * 100\n",
        "\n",
        "    print(f\"\\n⭐ OVERALL EFFICIENCY ASSESSMENT:\")\n",
        "    print(f\"   • Efficiency score: {efficiency_score:.1f}/100\")\n",
        "\n",
        "    if efficiency_score > 75:\n",
        "        efficiency_rating = \"EXCELLENT\"\n",
        "        recommendation = \"PCA highly recommended for this dataset\"\n",
        "    elif efficiency_score > 60:\n",
        "        efficiency_rating = \"GOOD\"\n",
        "        recommendation = \"PCA provides good benefits for this dataset\"\n",
        "    elif efficiency_score > 45:\n",
        "        efficiency_rating = \"MODERATE\"\n",
        "        recommendation = \"PCA provides modest benefits\"\n",
        "    else:\n",
        "        efficiency_rating = \"LIMITED\"\n",
        "        recommendation = \"Consider using original features\"\n",
        "\n",
        "    print(f\"   • Rating: {efficiency_rating}\")\n",
        "    print(f\"   • Recommendation: {recommendation}\")\n",
        "\n",
        "    if X_train.shape[0] <= 1000:\n",
        "        print(f\"\\n📈 Creating dimensionality comparison visualization...\")\n",
        "\n",
        "        fig, axes = plt.subplots(1, 2, figsize=(15, 6))\n",
        "\n",
        "        from sklearn.manifold import TSNE\n",
        "\n",
        "        tsne_original = TSNE(n_components=2, random_state=42, perplexity=min(30, X_train.shape[0]//4))\n",
        "        X_tsne_original = tsne_original.fit_transform(X_train)\n",
        "\n",
        "        axes[0].scatter(X_tsne_original[:, 0], X_tsne_original[:, 1], alpha=0.6)\n",
        "        axes[0].set_title(f'Original Space t-SNE\\n({n_original_features} dimensions)')\n",
        "        axes[0].set_xlabel('t-SNE Component 1')\n",
        "        axes[0].set_ylabel('t-SNE Component 2')\n",
        "\n",
        "        tsne_pca = TSNE(n_components=2, random_state=42, perplexity=min(30, X_train_pca.shape[0]//4))\n",
        "        X_tsne_pca = tsne_pca.fit_transform(X_train_pca)\n",
        "\n",
        "        axes[1].scatter(X_tsne_pca[:, 0], X_tsne_pca[:, 1], alpha=0.6)\n",
        "        axes[1].set_title(f'PCA Reduced Space t-SNE\\n({optimal_components} dimensions)')\n",
        "        axes[1].set_xlabel('t-SNE Component 1')\n",
        "        axes[1].set_ylabel('t-SNE Component 2')\n",
        "\n",
        "        plt.tight_layout()\n",
        "        plt.show()\n",
        "\n",
        "    pca_results = {\n",
        "        'X_train_pca': X_train_pca,\n",
        "        'X_test_pca': X_test_pca,\n",
        "        'pca_optimal': pca_optimal,\n",
        "        'efficiency_score': efficiency_score,\n",
        "        'efficiency_rating': efficiency_rating,\n",
        "        'recommendation': recommendation\n",
        "    }\n",
        "\n",
        "    print(f\"\\n✅ SECTION 3 COMPLETED: Dimensionality reduction analysis finished\")\n",
        "    print(f\"   • Optimal components selected: {optimal_components}\")\n",
        "    print(f\"   • Efficiency rating: {efficiency_rating}\")\n",
        "    print(f\"   • Ready for clustering analysis\")\n",
        "\n",
        "    return pca_results"
      ],
      "metadata": {
        "id": "g468i2tGOMuv"
      },
      "execution_count": 57,
      "outputs": []
    },
    {
      "cell_type": "code",
      "source": [
        "pca_full, feature_importance, n_original_features = pca_fit_analysis(X_train)\n",
        "explained_variance_ratio, cumulative_variance, threshold_components = pca_variance_analysis(pca_full, feature_importance, n_original_features)\n",
        "optimal_components, component_options, silhouette_scores = pca_optimal_component_selection(\n",
        "    pca_full, explained_variance_ratio, cumulative_variance, threshold_components, X_train, n_original_features\n",
        ")\n",
        "pca_results = pca_efficiency_assessment(X_train, X_test, optimal_components, cumulative_variance, n_original_features)\n"
      ],
      "metadata": {
        "colab": {
          "base_uri": "https://localhost:8080/",
          "height": 1000
        },
        "id": "1FrjNjd3OUZ5",
        "outputId": "3958fb6c-89c2-4479-e7d5-8bbe6da442ee"
      },
      "execution_count": 58,
      "outputs": [
        {
          "output_type": "stream",
          "name": "stdout",
          "text": [
            "================================================================================\n",
            "SECTION 3.1: PRINCIPAL COMPONENT ANALYSIS (PCA)\n",
            "================================================================================\n",
            "\n",
            "📊 PCA INITIALIZATION:\n",
            "   • Original feature dimensions: 18\n",
            "   • Training samples: 592\n",
            "   • PCA components computed: 18\n",
            "\n",
            "🎯 COMPONENT ANALYSIS:\n",
            "   • Most important component: PC1 (explains 51.3% variance)\n",
            "   • Least important component: PC18 (explains 0.0% variance)\n",
            "   • Top 3 components combined: 79.6% variance\n",
            "\n",
            "================================================================================\n",
            "SECTION 3.2: VARIANCE EXPLANATION ANALYSIS\n",
            "================================================================================\n",
            "\n",
            "📈 VARIANCE THRESHOLD ANALYSIS:\n",
            "   • 80% variance:  4 components (reduces by 77.8%)\n",
            "   • 85% variance:  4 components (reduces by 77.8%)\n",
            "   • 90% variance:  5 components (reduces by 72.2%)\n",
            "   • 95% variance:  7 components (reduces by 61.1%)\n",
            "   • 99% variance: 11 components (reduces by 38.9%)\n",
            "\n",
            "🔍 DETAILED VARIANCE BREAKDOWN:\n",
            "   • First component: 51.3%\n",
            "   • First 2 components: 67.6%\n",
            "   • First 3 components: 79.6%\n",
            "   • First 5 components: 91.3%\n"
          ]
        },
        {
          "output_type": "display_data",
          "data": {
            "text/plain": [
              "<Figure size 1600x1200 with 5 Axes>"
            ],
            "image/png": "[encoded data removed]"
          },
          "metadata": {}
        },
        {
          "output_type": "stream",
          "name": "stdout",
          "text": [
            "\n",
            "================================================================================\n",
            "SECTION 3.3: OPTIMAL COMPONENT SELECTION\n",
            "================================================================================\n",
            "Determining optimal number of components based on multiple criteria...\n",
            "\n",
            "🧪 TESTING DIFFERENT COMPONENT COUNTS FOR CLUSTERING:\n",
            "   •  2 components: silhouette = 0.471\n",
            "   •  3 components: silhouette = 0.428\n",
            "   •  4 components: silhouette = 0.372\n",
            "   •  5 components: silhouette = 0.336\n",
            "   •  6 components: silhouette = 0.321\n",
            "   •  7 components: silhouette = 0.310\n",
            "   •  8 components: silhouette = 0.302\n",
            "   •  9 components: silhouette = 0.299\n",
            "   • 10 components: silhouette = 0.296\n",
            "   • 11 components: silhouette = 0.295\n",
            "   • 12 components: silhouette = 0.294\n",
            "   • 13 components: silhouette = 0.293\n",
            "   • 14 components: silhouette = 0.292\n",
            "\n",
            "🎯 COMPONENT SELECTION METHODS:\n",
            "   • Kaiser criterion (eigenvalue > 1): 4 components\n",
            "   • Elbow method: 1 components\n",
            "   • Business rule (90% variance): 5 components\n",
            "   • Clustering-optimized: 2 components\n",
            "\n",
            "⚖️  COMPONENT SELECTION DECISION:\n",
            "   • Selected: 5 components\n",
            "   • Rationale: Balances variance retention (91.3%) with dimensionality reduction\n",
            "   • Reduction achieved: 72.2%\n",
            "\n",
            "================================================================================\n",
            "SECTION 3.4: DIMENSIONALITY REDUCTION EFFICIENCY ASSESSMENT\n",
            "================================================================================\n",
            "Assessing the efficiency and impact of dimensionality reduction...\n",
            "\n",
            "📊 DIMENSIONALITY REDUCTION EFFICIENCY:\n",
            "   • Original dimensions: 18\n",
            "   • Reduced dimensions: 5\n",
            "   • Dimension reduction: 72.2%\n",
            "   • Compression ratio: 3.6:1\n",
            "   • Variance retained: 91.3%\n",
            "   • Information loss: 8.7%\n",
            "\n",
            "💻 COMPUTATIONAL EFFICIENCY:\n",
            "   • Original feature space size: 10,656\n",
            "   • Reduced feature space size: 2,960\n",
            "   • Computational reduction: 72.2%\n",
            "\n",
            "🎯 QUALITY ASSESSMENT:\n",
            "   • Mean reconstruction error: 0.086801\n",
            "   • Relative reconstruction error: 0.5%\n",
            "\n",
            "⭐ OVERALL EFFICIENCY ASSESSMENT:\n",
            "   • Efficiency score: 83.7/100\n",
            "   • Rating: EXCELLENT\n",
            "   • Recommendation: PCA highly recommended for this dataset\n",
            "\n",
            "📈 Creating dimensionality comparison visualization...\n"
          ]
        },
        {
          "output_type": "display_data",
          "data": {
            "text/plain": [
              "<Figure size 1500x600 with 2 Axes>"
            ],
            "image/png": "[encoded data removed]"
          },
          "metadata": {}
        },
        {
          "output_type": "stream",
          "name": "stdout",
          "text": [
            "\n",
            "✅ SECTION 3 COMPLETED: Dimensionality reduction analysis finished\n",
            "   • Optimal components selected: 5\n",
            "   • Efficiency rating: EXCELLENT\n",
            "   • Ready for clustering analysis\n"
          ]
        }
      ]
    }
  ]
}